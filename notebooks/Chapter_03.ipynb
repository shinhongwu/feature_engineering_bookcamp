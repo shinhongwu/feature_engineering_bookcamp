{
  "cells": [
    {
      "cell_type": "code",
      "execution_count": null,
      "id": "faced-moderator",
      "metadata": {
        "id": "faced-moderator"
      },
      "outputs": [],
      "source": [
        "# run our base notebook"
      ]
    },
    {
      "cell_type": "code",
      "execution_count": 5,
      "id": "accessible-insured",
      "metadata": {
        "colab": {
          "base_uri": "https://localhost:8080/"
        },
        "id": "accessible-insured",
        "outputId": "cf6ea03a-8b7b-420b-c31f-d8a6a74bd79c"
      },
      "outputs": [
        {
          "output_type": "stream",
          "name": "stdout",
          "text": [
            "Cloning into 'feature_engineering_bookcamp'...\n",
            "remote: Enumerating objects: 111, done.\u001b[K\n",
            "remote: Total 111 (delta 0), reused 0 (delta 0), pack-reused 111\u001b[K\n",
            "Receiving objects: 100% (111/111), 178.06 MiB | 30.35 MiB/s, done.\n",
            "Resolving deltas: 100% (48/48), done.\n",
            "Checking out files: 100% (28/28), done.\n"
          ]
        }
      ],
      "source": [
        "! git clone https://github.com/shinhongwu/feature_engineering_bookcamp/"
      ]
    },
    {
      "cell_type": "code",
      "execution_count": 7,
      "id": "continuous-princess",
      "metadata": {
        "id": "continuous-princess"
      },
      "outputs": [],
      "source": [
        "%run /content/feature_engineering_bookcamp/notebooks/Base.ipynb"
      ]
    },
    {
      "cell_type": "code",
      "execution_count": 8,
      "id": "latest-finger",
      "metadata": {
        "id": "latest-finger"
      },
      "outputs": [],
      "source": [
        "import pandas as pd\n",
        "\n",
        "covid_flu = pd.read_csv('/content/feature_engineering_bookcamp/data/covid_flu.csv')"
      ]
    },
    {
      "cell_type": "code",
      "execution_count": null,
      "id": "still-miami",
      "metadata": {
        "id": "still-miami"
      },
      "outputs": [],
      "source": [
        "# Exploratory Data Analysis"
      ]
    },
    {
      "cell_type": "code",
      "execution_count": 9,
      "id": "equipped-cigarette",
      "metadata": {
        "colab": {
          "base_uri": "https://localhost:8080/",
          "height": 270
        },
        "id": "equipped-cigarette",
        "outputId": "1790c0bd-8a00-4ca8-832e-821b9ddcf2ac"
      },
      "outputs": [
        {
          "output_type": "execute_result",
          "data": {
            "text/plain": [
              "  Diagnosis InitialPCRDiagnosis   Age Sex  neutrophil  \\\n",
              "0      H1N1                 NaN  67.0   F         NaN   \n",
              "1      H1N1                 NaN  29.0   M         NaN   \n",
              "2      H1N1                 NaN  22.0   F         NaN   \n",
              "3      H1N1                 NaN  20.0   F         NaN   \n",
              "4      H1N1                 NaN  21.0   M         NaN   \n",
              "\n",
              "   serumLevelsOfWhiteBloodCell  lymphocytes CReactiveProteinLevels  \\\n",
              "0                          NaN          NaN                    NaN   \n",
              "1                          NaN          NaN                    NaN   \n",
              "2                          NaN          NaN                    NaN   \n",
              "3                          NaN          NaN                    NaN   \n",
              "4                          NaN          NaN                    NaN   \n",
              "\n",
              "   DurationOfIllness CTscanResults RiskFactors GroundGlassOpacity Diarrhea  \\\n",
              "0                NaN           NaN         NaN                NaN      NaN   \n",
              "1                NaN           NaN         NaN                NaN      NaN   \n",
              "2                NaN           NaN         NaN                NaN      NaN   \n",
              "3                NaN           NaN      immuno                NaN      NaN   \n",
              "4                NaN           NaN         NaN                NaN      NaN   \n",
              "\n",
              "  Fever Coughing ShortnessOfBreath SoreThroat NauseaVomitting  Temperature  \\\n",
              "0   Yes      Yes               NaN         No             NaN    38.111111   \n",
              "1   NaN      NaN               NaN        NaN             NaN          NaN   \n",
              "2   NaN      NaN               NaN        NaN             NaN          NaN   \n",
              "3   Yes      Yes               NaN         No             NaN    36.555556   \n",
              "4   NaN      NaN               NaN        NaN             NaN          NaN   \n",
              "\n",
              "  Fatigue  \n",
              "0      No  \n",
              "1     NaN  \n",
              "2     NaN  \n",
              "3     Yes  \n",
              "4     NaN  "
            ],
            "text/html": [
              "\n",
              "  <div id=\"df-e84f190d-4e42-4b99-8326-e1b819fffe8f\">\n",
              "    <div class=\"colab-df-container\">\n",
              "      <div>\n",
              "<style scoped>\n",
              "    .dataframe tbody tr th:only-of-type {\n",
              "        vertical-align: middle;\n",
              "    }\n",
              "\n",
              "    .dataframe tbody tr th {\n",
              "        vertical-align: top;\n",
              "    }\n",
              "\n",
              "    .dataframe thead th {\n",
              "        text-align: right;\n",
              "    }\n",
              "</style>\n",
              "<table border=\"1\" class=\"dataframe\">\n",
              "  <thead>\n",
              "    <tr style=\"text-align: right;\">\n",
              "      <th></th>\n",
              "      <th>Diagnosis</th>\n",
              "      <th>InitialPCRDiagnosis</th>\n",
              "      <th>Age</th>\n",
              "      <th>Sex</th>\n",
              "      <th>neutrophil</th>\n",
              "      <th>serumLevelsOfWhiteBloodCell</th>\n",
              "      <th>lymphocytes</th>\n",
              "      <th>CReactiveProteinLevels</th>\n",
              "      <th>DurationOfIllness</th>\n",
              "      <th>CTscanResults</th>\n",
              "      <th>RiskFactors</th>\n",
              "      <th>GroundGlassOpacity</th>\n",
              "      <th>Diarrhea</th>\n",
              "      <th>Fever</th>\n",
              "      <th>Coughing</th>\n",
              "      <th>ShortnessOfBreath</th>\n",
              "      <th>SoreThroat</th>\n",
              "      <th>NauseaVomitting</th>\n",
              "      <th>Temperature</th>\n",
              "      <th>Fatigue</th>\n",
              "    </tr>\n",
              "  </thead>\n",
              "  <tbody>\n",
              "    <tr>\n",
              "      <th>0</th>\n",
              "      <td>H1N1</td>\n",
              "      <td>NaN</td>\n",
              "      <td>67.0</td>\n",
              "      <td>F</td>\n",
              "      <td>NaN</td>\n",
              "      <td>NaN</td>\n",
              "      <td>NaN</td>\n",
              "      <td>NaN</td>\n",
              "      <td>NaN</td>\n",
              "      <td>NaN</td>\n",
              "      <td>NaN</td>\n",
              "      <td>NaN</td>\n",
              "      <td>NaN</td>\n",
              "      <td>Yes</td>\n",
              "      <td>Yes</td>\n",
              "      <td>NaN</td>\n",
              "      <td>No</td>\n",
              "      <td>NaN</td>\n",
              "      <td>38.111111</td>\n",
              "      <td>No</td>\n",
              "    </tr>\n",
              "    <tr>\n",
              "      <th>1</th>\n",
              "      <td>H1N1</td>\n",
              "      <td>NaN</td>\n",
              "      <td>29.0</td>\n",
              "      <td>M</td>\n",
              "      <td>NaN</td>\n",
              "      <td>NaN</td>\n",
              "      <td>NaN</td>\n",
              "      <td>NaN</td>\n",
              "      <td>NaN</td>\n",
              "      <td>NaN</td>\n",
              "      <td>NaN</td>\n",
              "      <td>NaN</td>\n",
              "      <td>NaN</td>\n",
              "      <td>NaN</td>\n",
              "      <td>NaN</td>\n",
              "      <td>NaN</td>\n",
              "      <td>NaN</td>\n",
              "      <td>NaN</td>\n",
              "      <td>NaN</td>\n",
              "      <td>NaN</td>\n",
              "    </tr>\n",
              "    <tr>\n",
              "      <th>2</th>\n",
              "      <td>H1N1</td>\n",
              "      <td>NaN</td>\n",
              "      <td>22.0</td>\n",
              "      <td>F</td>\n",
              "      <td>NaN</td>\n",
              "      <td>NaN</td>\n",
              "      <td>NaN</td>\n",
              "      <td>NaN</td>\n",
              "      <td>NaN</td>\n",
              "      <td>NaN</td>\n",
              "      <td>NaN</td>\n",
              "      <td>NaN</td>\n",
              "      <td>NaN</td>\n",
              "      <td>NaN</td>\n",
              "      <td>NaN</td>\n",
              "      <td>NaN</td>\n",
              "      <td>NaN</td>\n",
              "      <td>NaN</td>\n",
              "      <td>NaN</td>\n",
              "      <td>NaN</td>\n",
              "    </tr>\n",
              "    <tr>\n",
              "      <th>3</th>\n",
              "      <td>H1N1</td>\n",
              "      <td>NaN</td>\n",
              "      <td>20.0</td>\n",
              "      <td>F</td>\n",
              "      <td>NaN</td>\n",
              "      <td>NaN</td>\n",
              "      <td>NaN</td>\n",
              "      <td>NaN</td>\n",
              "      <td>NaN</td>\n",
              "      <td>NaN</td>\n",
              "      <td>immuno</td>\n",
              "      <td>NaN</td>\n",
              "      <td>NaN</td>\n",
              "      <td>Yes</td>\n",
              "      <td>Yes</td>\n",
              "      <td>NaN</td>\n",
              "      <td>No</td>\n",
              "      <td>NaN</td>\n",
              "      <td>36.555556</td>\n",
              "      <td>Yes</td>\n",
              "    </tr>\n",
              "    <tr>\n",
              "      <th>4</th>\n",
              "      <td>H1N1</td>\n",
              "      <td>NaN</td>\n",
              "      <td>21.0</td>\n",
              "      <td>M</td>\n",
              "      <td>NaN</td>\n",
              "      <td>NaN</td>\n",
              "      <td>NaN</td>\n",
              "      <td>NaN</td>\n",
              "      <td>NaN</td>\n",
              "      <td>NaN</td>\n",
              "      <td>NaN</td>\n",
              "      <td>NaN</td>\n",
              "      <td>NaN</td>\n",
              "      <td>NaN</td>\n",
              "      <td>NaN</td>\n",
              "      <td>NaN</td>\n",
              "      <td>NaN</td>\n",
              "      <td>NaN</td>\n",
              "      <td>NaN</td>\n",
              "      <td>NaN</td>\n",
              "    </tr>\n",
              "  </tbody>\n",
              "</table>\n",
              "</div>\n",
              "      <button class=\"colab-df-convert\" onclick=\"convertToInteractive('df-e84f190d-4e42-4b99-8326-e1b819fffe8f')\"\n",
              "              title=\"Convert this dataframe to an interactive table.\"\n",
              "              style=\"display:none;\">\n",
              "        \n",
              "  <svg xmlns=\"http://www.w3.org/2000/svg\" height=\"24px\"viewBox=\"0 0 24 24\"\n",
              "       width=\"24px\">\n",
              "    <path d=\"M0 0h24v24H0V0z\" fill=\"none\"/>\n",
              "    <path d=\"M18.56 5.44l.94 2.06.94-2.06 2.06-.94-2.06-.94-.94-2.06-.94 2.06-2.06.94zm-11 1L8.5 8.5l.94-2.06 2.06-.94-2.06-.94L8.5 2.5l-.94 2.06-2.06.94zm10 10l.94 2.06.94-2.06 2.06-.94-2.06-.94-.94-2.06-.94 2.06-2.06.94z\"/><path d=\"M17.41 7.96l-1.37-1.37c-.4-.4-.92-.59-1.43-.59-.52 0-1.04.2-1.43.59L10.3 9.45l-7.72 7.72c-.78.78-.78 2.05 0 2.83L4 21.41c.39.39.9.59 1.41.59.51 0 1.02-.2 1.41-.59l7.78-7.78 2.81-2.81c.8-.78.8-2.07 0-2.86zM5.41 20L4 18.59l7.72-7.72 1.47 1.35L5.41 20z\"/>\n",
              "  </svg>\n",
              "      </button>\n",
              "      \n",
              "  <style>\n",
              "    .colab-df-container {\n",
              "      display:flex;\n",
              "      flex-wrap:wrap;\n",
              "      gap: 12px;\n",
              "    }\n",
              "\n",
              "    .colab-df-convert {\n",
              "      background-color: #E8F0FE;\n",
              "      border: none;\n",
              "      border-radius: 50%;\n",
              "      cursor: pointer;\n",
              "      display: none;\n",
              "      fill: #1967D2;\n",
              "      height: 32px;\n",
              "      padding: 0 0 0 0;\n",
              "      width: 32px;\n",
              "    }\n",
              "\n",
              "    .colab-df-convert:hover {\n",
              "      background-color: #E2EBFA;\n",
              "      box-shadow: 0px 1px 2px rgba(60, 64, 67, 0.3), 0px 1px 3px 1px rgba(60, 64, 67, 0.15);\n",
              "      fill: #174EA6;\n",
              "    }\n",
              "\n",
              "    [theme=dark] .colab-df-convert {\n",
              "      background-color: #3B4455;\n",
              "      fill: #D2E3FC;\n",
              "    }\n",
              "\n",
              "    [theme=dark] .colab-df-convert:hover {\n",
              "      background-color: #434B5C;\n",
              "      box-shadow: 0px 1px 3px 1px rgba(0, 0, 0, 0.15);\n",
              "      filter: drop-shadow(0px 1px 2px rgba(0, 0, 0, 0.3));\n",
              "      fill: #FFFFFF;\n",
              "    }\n",
              "  </style>\n",
              "\n",
              "      <script>\n",
              "        const buttonEl =\n",
              "          document.querySelector('#df-e84f190d-4e42-4b99-8326-e1b819fffe8f button.colab-df-convert');\n",
              "        buttonEl.style.display =\n",
              "          google.colab.kernel.accessAllowed ? 'block' : 'none';\n",
              "\n",
              "        async function convertToInteractive(key) {\n",
              "          const element = document.querySelector('#df-e84f190d-4e42-4b99-8326-e1b819fffe8f');\n",
              "          const dataTable =\n",
              "            await google.colab.kernel.invokeFunction('convertToInteractive',\n",
              "                                                     [key], {});\n",
              "          if (!dataTable) return;\n",
              "\n",
              "          const docLinkHtml = 'Like what you see? Visit the ' +\n",
              "            '<a target=\"_blank\" href=https://colab.research.google.com/notebooks/data_table.ipynb>data table notebook</a>'\n",
              "            + ' to learn more about interactive tables.';\n",
              "          element.innerHTML = '';\n",
              "          dataTable['output_type'] = 'display_data';\n",
              "          await google.colab.output.renderOutput(dataTable, element);\n",
              "          const docLink = document.createElement('div');\n",
              "          docLink.innerHTML = docLinkHtml;\n",
              "          element.appendChild(docLink);\n",
              "        }\n",
              "      </script>\n",
              "    </div>\n",
              "  </div>\n",
              "  "
            ]
          },
          "metadata": {},
          "execution_count": 9
        }
      ],
      "source": [
        "covid_flu.head()  # take a look at the first 5 rows"
      ]
    },
    {
      "cell_type": "code",
      "source": [
        "type(covid_flu)"
      ],
      "metadata": {
        "colab": {
          "base_uri": "https://localhost:8080/"
        },
        "id": "qP50-ocSNybm",
        "outputId": "d6ce3006-450c-4c31-dffb-3e0fe732bf6a"
      },
      "id": "qP50-ocSNybm",
      "execution_count": 11,
      "outputs": [
        {
          "output_type": "execute_result",
          "data": {
            "text/plain": [
              "pandas.core.frame.DataFrame"
            ]
          },
          "metadata": {},
          "execution_count": 11
        }
      ]
    },
    {
      "cell_type": "code",
      "execution_count": 10,
      "id": "fewer-peace",
      "metadata": {
        "colab": {
          "base_uri": "https://localhost:8080/"
        },
        "id": "fewer-peace",
        "outputId": "6fe083b5-d7de-443f-83bb-31fc2777d77a"
      },
      "outputs": [
        {
          "output_type": "execute_result",
          "data": {
            "text/plain": [
              "(1482, 20)"
            ]
          },
          "metadata": {},
          "execution_count": 10
        }
      ],
      "source": [
        "covid_flu.shape  # 20 columns!"
      ]
    },
    {
      "cell_type": "code",
      "execution_count": 12,
      "id": "centered-captain",
      "metadata": {
        "colab": {
          "base_uri": "https://localhost:8080/"
        },
        "id": "centered-captain",
        "outputId": "6335d7f8-5991-4fef-a6c1-f78f3479f031"
      },
      "outputs": [
        {
          "output_type": "execute_result",
          "data": {
            "text/plain": [
              "Diagnosis                      0.000000\n",
              "InitialPCRDiagnosis            0.929825\n",
              "Age                            0.018893\n",
              "Sex                            0.051282\n",
              "neutrophil                     0.930499\n",
              "serumLevelsOfWhiteBloodCell    0.898111\n",
              "lymphocytes                    0.894737\n",
              "CReactiveProteinLevels         0.907557\n",
              "DurationOfIllness              0.941296\n",
              "CTscanResults                  0.892713\n",
              "RiskFactors                    0.858974\n",
              "GroundGlassOpacity             0.937247\n",
              "Diarrhea                       0.696356\n",
              "Fever                          0.377193\n",
              "Coughing                       0.420378\n",
              "ShortnessOfBreath              0.949393\n",
              "SoreThroat                     0.547908\n",
              "NauseaVomitting                0.715924\n",
              "Temperature                    0.576248\n",
              "Fatigue                        0.641700\n",
              "dtype: float64"
            ]
          },
          "metadata": {},
          "execution_count": 12
        }
      ],
      "source": [
        "covid_flu.isnull().mean()  # percent of missing data in each column"
      ]
    },
    {
      "cell_type": "code",
      "execution_count": 13,
      "id": "initial-tissue",
      "metadata": {
        "colab": {
          "base_uri": "https://localhost:8080/"
        },
        "id": "initial-tissue",
        "outputId": "4e1c83cf-f394-4071-8eed-9187555cd73f"
      },
      "outputs": [
        {
          "output_type": "execute_result",
          "data": {
            "text/plain": [
              "H1N1       0.723347\n",
              "COVID19    0.276653\n",
              "Name: Diagnosis, dtype: float64"
            ]
          },
          "metadata": {},
          "execution_count": 13
        }
      ],
      "source": [
        "covid_flu['Diagnosis'].value_counts(normalize=True)  # percent breakdown of response variable"
      ]
    },
    {
      "cell_type": "code",
      "execution_count": 14,
      "id": "collectible-injury",
      "metadata": {
        "colab": {
          "base_uri": "https://localhost:8080/"
        },
        "id": "collectible-injury",
        "outputId": "248e2d22-2993-41b9-af96-97c514ca9e67"
      },
      "outputs": [
        {
          "output_type": "stream",
          "name": "stdout",
          "text": [
            "<class 'pandas.core.frame.DataFrame'>\n",
            "RangeIndex: 1482 entries, 0 to 1481\n",
            "Data columns (total 20 columns):\n",
            " #   Column                       Non-Null Count  Dtype  \n",
            "---  ------                       --------------  -----  \n",
            " 0   Diagnosis                    1482 non-null   object \n",
            " 1   InitialPCRDiagnosis          104 non-null    object \n",
            " 2   Age                          1454 non-null   float64\n",
            " 3   Sex                          1406 non-null   object \n",
            " 4   neutrophil                   103 non-null    float64\n",
            " 5   serumLevelsOfWhiteBloodCell  151 non-null    float64\n",
            " 6   lymphocytes                  156 non-null    float64\n",
            " 7   CReactiveProteinLevels       137 non-null    object \n",
            " 8   DurationOfIllness            87 non-null     float64\n",
            " 9   CTscanResults                159 non-null    object \n",
            " 10  RiskFactors                  209 non-null    object \n",
            " 11  GroundGlassOpacity           93 non-null     object \n",
            " 12  Diarrhea                     450 non-null    object \n",
            " 13  Fever                        923 non-null    object \n",
            " 14  Coughing                     859 non-null    object \n",
            " 15  ShortnessOfBreath            75 non-null     object \n",
            " 16  SoreThroat                   670 non-null    object \n",
            " 17  NauseaVomitting              421 non-null    object \n",
            " 18  Temperature                  628 non-null    float64\n",
            " 19  Fatigue                      531 non-null    object \n",
            "dtypes: float64(6), object(14)\n",
            "memory usage: 231.7+ KB\n"
          ]
        }
      ],
      "source": [
        "covid_flu.info()"
      ]
    },
    {
      "cell_type": "markdown",
      "source": [
        "找出所有數值型變數欄位名稱"
      ],
      "metadata": {
        "id": "1r7Z3t5BOJx_"
      },
      "id": "1r7Z3t5BOJx_"
    },
    {
      "cell_type": "code",
      "execution_count": 15,
      "id": "departmental-pulse",
      "metadata": {
        "colab": {
          "base_uri": "https://localhost:8080/"
        },
        "id": "departmental-pulse",
        "outputId": "8fca60aa-d5e9-43a7-f14f-90633d4fe021"
      },
      "outputs": [
        {
          "output_type": "execute_result",
          "data": {
            "text/plain": [
              "['Age',\n",
              " 'neutrophil',\n",
              " 'serumLevelsOfWhiteBloodCell',\n",
              " 'lymphocytes',\n",
              " 'DurationOfIllness',\n",
              " 'Temperature']"
            ]
          },
          "metadata": {},
          "execution_count": 15
        }
      ],
      "source": [
        "numeric_types = ['float16', 'float32', 'float64', 'int16', 'int32', 'int64']  # the numeric types in Pandas\n",
        "numerical_columns = covid_flu.select_dtypes(include=numeric_types).columns.tolist()\n",
        "numerical_columns"
      ]
    },
    {
      "cell_type": "markdown",
      "source": [
        "##**Feature Imporvement**\n",
        "\n",
        "\n",
        "*   Imputing data\n",
        "*   Value normalizing\n",
        "\n"
      ],
      "metadata": {
        "id": "U_Qy0-izZuYG"
      },
      "id": "U_Qy0-izZuYG"
    },
    {
      "cell_type": "markdown",
      "source": [
        "Impute Lymphocytes column (numerical) with column **mean**"
      ],
      "metadata": {
        "id": "1lIEhxplOwC4"
      },
      "id": "1lIEhxplOwC4"
    },
    {
      "cell_type": "code",
      "source": [
        "covid_flu['lymphocytes'].head()"
      ],
      "metadata": {
        "colab": {
          "base_uri": "https://localhost:8080/"
        },
        "id": "Dcs0wjCpO5X7",
        "outputId": "2612e7a8-e831-4186-ca5d-f586e4af54cc"
      },
      "id": "Dcs0wjCpO5X7",
      "execution_count": 17,
      "outputs": [
        {
          "output_type": "execute_result",
          "data": {
            "text/plain": [
              "0   NaN\n",
              "1   NaN\n",
              "2   NaN\n",
              "3   NaN\n",
              "4   NaN\n",
              "Name: lymphocytes, dtype: float64"
            ]
          },
          "metadata": {},
          "execution_count": 17
        }
      ]
    },
    {
      "cell_type": "code",
      "source": [
        "from sklearn.impute import SimpleImputer  # sklearn class to impute missing data\n",
        "num_impute = SimpleImputer(strategy='mean')  # could be mean or median for numerical values"
      ],
      "metadata": {
        "id": "ByE5CpV2OpI6"
      },
      "id": "ByE5CpV2OpI6",
      "execution_count": 16,
      "outputs": []
    },
    {
      "cell_type": "code",
      "source": [
        "covid_flu['lymphocytes'].mean()"
      ],
      "metadata": {
        "colab": {
          "base_uri": "https://localhost:8080/"
        },
        "id": "LymbLnInPBV2",
        "outputId": "415c95ba-82d2-42c5-c4f4-67b0879e9512"
      },
      "id": "LymbLnInPBV2",
      "execution_count": 18,
      "outputs": [
        {
          "output_type": "execute_result",
          "data": {
            "text/plain": [
              "1.8501538461538463"
            ]
          },
          "metadata": {},
          "execution_count": 18
        }
      ]
    },
    {
      "cell_type": "code",
      "source": [
        "num_impute.fit_transform(covid_flu[['lymphocytes']])[:5]"
      ],
      "metadata": {
        "colab": {
          "base_uri": "https://localhost:8080/"
        },
        "id": "jhH45wpaPE1h",
        "outputId": "1cac43cc-26ab-4a0d-c129-14eccf8b0513"
      },
      "id": "jhH45wpaPE1h",
      "execution_count": 19,
      "outputs": [
        {
          "output_type": "execute_result",
          "data": {
            "text/plain": [
              "array([[1.85015385],\n",
              "       [1.85015385],\n",
              "       [1.85015385],\n",
              "       [1.85015385],\n",
              "       [1.85015385]])"
            ]
          },
          "metadata": {},
          "execution_count": 19
        }
      ]
    },
    {
      "cell_type": "markdown",
      "source": [
        "End-of-tail imputation"
      ],
      "metadata": {
        "id": "TQy8O609VVJP"
      },
      "id": "TQy8O609VVJP"
    },
    {
      "cell_type": "code",
      "execution_count": 66,
      "id": "appointed-jonathan",
      "metadata": {
        "colab": {
          "base_uri": "https://localhost:8080/"
        },
        "id": "appointed-jonathan",
        "outputId": "f0b09c3c-dbb3-4175-b06e-e9d7fd518bad"
      },
      "outputs": [
        {
          "output_type": "stream",
          "name": "stdout",
          "text": [
            "Looking in indexes: https://pypi.org/simple, https://us-python.pkg.dev/colab-wheels/public/simple/\n",
            "Requirement already satisfied: feature-engine in /usr/local/lib/python3.7/dist-packages (1.4.0)\n",
            "Requirement already satisfied: pandas>=1.0.3 in /usr/local/lib/python3.7/dist-packages (from feature-engine) (1.3.5)\n",
            "Requirement already satisfied: scipy>=1.4.1 in /usr/local/lib/python3.7/dist-packages (from feature-engine) (1.7.3)\n",
            "Requirement already satisfied: statsmodels>=0.11.1 in /usr/local/lib/python3.7/dist-packages (from feature-engine) (0.12.2)\n",
            "Requirement already satisfied: numpy>=1.18.2 in /usr/local/lib/python3.7/dist-packages (from feature-engine) (1.21.6)\n",
            "Requirement already satisfied: scikit-learn>=1.0.0 in /usr/local/lib/python3.7/dist-packages (from feature-engine) (1.0.2)\n",
            "Requirement already satisfied: pytz>=2017.3 in /usr/local/lib/python3.7/dist-packages (from pandas>=1.0.3->feature-engine) (2022.5)\n",
            "Requirement already satisfied: python-dateutil>=2.7.3 in /usr/local/lib/python3.7/dist-packages (from pandas>=1.0.3->feature-engine) (2.8.2)\n",
            "Requirement already satisfied: six>=1.5 in /usr/local/lib/python3.7/dist-packages (from python-dateutil>=2.7.3->pandas>=1.0.3->feature-engine) (1.15.0)\n",
            "Requirement already satisfied: joblib>=0.11 in /usr/local/lib/python3.7/dist-packages (from scikit-learn>=1.0.0->feature-engine) (1.2.0)\n",
            "Requirement already satisfied: threadpoolctl>=2.0.0 in /usr/local/lib/python3.7/dist-packages (from scikit-learn>=1.0.0->feature-engine) (3.1.0)\n",
            "Requirement already satisfied: patsy>=0.5 in /usr/local/lib/python3.7/dist-packages (from statsmodels>=0.11.1->feature-engine) (0.5.3)\n"
          ]
        }
      ],
      "source": [
        "# https://feature-engine.readthedocs.io\n",
        "! pip install feature-engine"
      ]
    },
    {
      "cell_type": "code",
      "execution_count": 22,
      "id": "portable-level",
      "metadata": {
        "colab": {
          "base_uri": "https://localhost:8080/",
          "height": 563
        },
        "id": "portable-level",
        "outputId": "4989f109-1e4e-4ccb-bcd4-93b6e76d0652"
      },
      "outputs": [
        {
          "output_type": "execute_result",
          "data": {
            "text/plain": [
              "<matplotlib.axes._subplots.AxesSubplot at 0x7fdd1c0c13d0>"
            ]
          },
          "metadata": {},
          "execution_count": 22
        },
        {
          "output_type": "display_data",
          "data": {
            "text/plain": [
              "<Figure size 432x288 with 1 Axes>"
            ],
            "image/png": "[encoded data removed]"
          },
          "metadata": {
            "needs_background": "light"
          }
        },
        {
          "output_type": "display_data",
          "data": {
            "text/plain": [
              "<Figure size 432x288 with 1 Axes>"
            ],
            "image/png": "[encoded data removed]"
          },
          "metadata": {
            "needs_background": "light"
          }
        }
      ],
      "source": [
        "import matplotlib.pyplot as plt\n",
        "from feature_engine.imputation import EndTailImputer\n",
        "\n",
        "covid_flu['lymphocytes'].plot(\n",
        "    title='Lymphocytes', kind='hist', xlabel='cells/μL'\n",
        "    )\n",
        "\n",
        "EndTailImputer().fit_transform(covid_flu[['lymphocytes']]).plot(\n",
        "    title='Lymphocytes (Imputed)', kind='hist', xlabel='cells/μL'\n",
        "    )\n"
      ]
    },
    {
      "cell_type": "markdown",
      "source": [
        "Arbitrary value imputation"
      ],
      "metadata": {
        "id": "_9O6VZWoW2Ok"
      },
      "id": "_9O6VZWoW2Ok"
    },
    {
      "cell_type": "code",
      "source": [
        "from feature_engine.imputation import ArbitraryNumberImputer\n",
        "\n",
        "covid_flu['lymphocytes'].plot(\n",
        "    title='Lymphocytes', kind='hist', xlabel='cells/μL'\n",
        "    )\n",
        "\n",
        "ArbitraryNumberImputer(arbitrary_number=999, variables=None, imputer_dict=None).fit_transform(covid_flu[['lymphocytes']]).plot(\n",
        "    title='Lymphocytes (Imputed)', kind='hist', xlabel='cells/μL'\n",
        "    )"
      ],
      "metadata": {
        "id": "T1inNJfdW-sc",
        "outputId": "0dacac63-7242-4225-8f25-0ac11735c2b1",
        "colab": {
          "base_uri": "https://localhost:8080/",
          "height": 563
        }
      },
      "id": "T1inNJfdW-sc",
      "execution_count": 68,
      "outputs": [
        {
          "output_type": "execute_result",
          "data": {
            "text/plain": [
              "<matplotlib.axes._subplots.AxesSubplot at 0x7fdd1c0f9c50>"
            ]
          },
          "metadata": {},
          "execution_count": 68
        },
        {
          "output_type": "display_data",
          "data": {
            "text/plain": [
              "<Figure size 432x288 with 1 Axes>"
            ],
            "image/png": "[encoded data removed]"
          },
          "metadata": {
            "needs_background": "light"
          }
        },
        {
          "output_type": "display_data",
          "data": {
            "text/plain": [
              "<Figure size 432x288 with 1 Axes>"
            ],
            "image/png": "[encoded data removed]"
          },
          "metadata": {
            "needs_background": "light"
          }
        }
      ]
    },
    {
      "cell_type": "markdown",
      "source": [
        "Impute Coughing column (categorical) with column **most_frequent**"
      ],
      "metadata": {
        "id": "YQ7GfQ9qPwDJ"
      },
      "id": "YQ7GfQ9qPwDJ"
    },
    {
      "cell_type": "code",
      "source": [
        "covid_flu['Coughing'].head()"
      ],
      "metadata": {
        "colab": {
          "base_uri": "https://localhost:8080/"
        },
        "id": "isPnQzqNP_eW",
        "outputId": "36eb90de-c2ea-4e45-f1c1-317618c346c4"
      },
      "id": "isPnQzqNP_eW",
      "execution_count": 23,
      "outputs": [
        {
          "output_type": "execute_result",
          "data": {
            "text/plain": [
              "0    Yes\n",
              "1    NaN\n",
              "2    NaN\n",
              "3    Yes\n",
              "4    NaN\n",
              "Name: Coughing, dtype: object"
            ]
          },
          "metadata": {},
          "execution_count": 23
        }
      ]
    },
    {
      "cell_type": "code",
      "execution_count": 24,
      "id": "foreign-petite",
      "metadata": {
        "colab": {
          "base_uri": "https://localhost:8080/"
        },
        "id": "foreign-petite",
        "outputId": "e8b4fb9c-ab7a-4488-98f9-555da378ab17"
      },
      "outputs": [
        {
          "output_type": "execute_result",
          "data": {
            "text/plain": [
              "array([['Yes'],\n",
              "       ['Yes'],\n",
              "       ['Yes'],\n",
              "       ['Yes'],\n",
              "       ['Yes']], dtype=object)"
            ]
          },
          "metadata": {},
          "execution_count": 24
        }
      ],
      "source": [
        "cat_impute = SimpleImputer(strategy='most_frequent')  # could be most_frequent or constant (arbitrary) for categorical values\n",
        "cat_impute.fit_transform(covid_flu[['Coughing']])[:5]  # transforming turns the column into a numpy array"
      ]
    },
    {
      "cell_type": "code",
      "execution_count": 25,
      "id": "steady-tonight",
      "metadata": {
        "colab": {
          "base_uri": "https://localhost:8080/",
          "height": 734
        },
        "id": "steady-tonight",
        "outputId": "9eaf0a7c-e50d-430f-e107-10e6d4c9deb8"
      },
      "outputs": [
        {
          "output_type": "execute_result",
          "data": {
            "text/plain": [
              "array([[<matplotlib.axes._subplots.AxesSubplot object at 0x7fdd1bb10ad0>,\n",
              "        <matplotlib.axes._subplots.AxesSubplot object at 0x7fdd1bb30bd0>],\n",
              "       [<matplotlib.axes._subplots.AxesSubplot object at 0x7fdd1baf2210>,\n",
              "        <matplotlib.axes._subplots.AxesSubplot object at 0x7fdd1baa7810>],\n",
              "       [<matplotlib.axes._subplots.AxesSubplot object at 0x7fdd1ba5be50>,\n",
              "        <matplotlib.axes._subplots.AxesSubplot object at 0x7fdd1ba20490>]],\n",
              "      dtype=object)"
            ]
          },
          "metadata": {},
          "execution_count": 25
        },
        {
          "output_type": "display_data",
          "data": {
            "text/plain": [
              "<Figure size 1440x720 with 6 Axes>"
            ],
            "image/png": "[encoded data removed]"
          },
          "metadata": {
            "needs_background": "light"
          }
        }
      ],
      "source": [
        "# looks like our numerical columns are hairly heavily right skewed\n",
        "\n",
        "covid_flu[numerical_columns].hist(figsize=(20, 10))  "
      ]
    },
    {
      "cell_type": "code",
      "execution_count": 26,
      "id": "corresponding-canyon",
      "metadata": {
        "colab": {
          "base_uri": "https://localhost:8080/",
          "height": 299
        },
        "id": "corresponding-canyon",
        "outputId": "4c703e71-3fc2-4eb5-dfef-d1bf5cc07519"
      },
      "outputs": [
        {
          "output_type": "execute_result",
          "data": {
            "text/plain": [
              "<matplotlib.axes._subplots.AxesSubplot at 0x7fdd1b7d5450>"
            ]
          },
          "metadata": {},
          "execution_count": 26
        },
        {
          "output_type": "display_data",
          "data": {
            "text/plain": [
              "<Figure size 432x288 with 1 Axes>"
            ],
            "image/png": "[encoded data removed]"
          },
          "metadata": {
            "needs_background": "light"
          }
        }
      ],
      "source": [
        "covid_flu['lymphocytes'].plot(\n",
        "    title='Lymphocytes', kind='hist', xlabel='cells/μL'\n",
        "    )  # before log transform"
      ]
    },
    {
      "cell_type": "markdown",
      "source": [
        "## Feature construction\n",
        "\n",
        "1.   Numerical feature transformations (e.g. Log, Box-Cox, Yoe-Johnson)\n",
        "2.   Categorical feature transformations\n",
        "\n"
      ],
      "metadata": {
        "id": "T1eL6GQ5ao1K"
      },
      "id": "T1eL6GQ5ao1K"
    },
    {
      "cell_type": "code",
      "execution_count": 27,
      "id": "banned-elizabeth",
      "metadata": {
        "colab": {
          "base_uri": "https://localhost:8080/",
          "height": 299
        },
        "id": "banned-elizabeth",
        "outputId": "c5156a13-9d4b-4ecb-899b-a9f94722d816"
      },
      "outputs": [
        {
          "output_type": "execute_result",
          "data": {
            "text/plain": [
              "<matplotlib.axes._subplots.AxesSubplot at 0x7fdd1b74e650>"
            ]
          },
          "metadata": {},
          "execution_count": 27
        },
        {
          "output_type": "display_data",
          "data": {
            "text/plain": [
              "<Figure size 432x288 with 1 Axes>"
            ],
            "image/png": "[encoded data removed]"
          },
          "metadata": {
            "needs_background": "light"
          }
        }
      ],
      "source": [
        "covid_flu['lymphocytes'].map(np.log1p).plot(\n",
        "    title='Lymphocytes (Log Transformed)', kind='hist', xlabel='cells/μL'\n",
        ")  # log transform of lymphocytes"
      ]
    },
    {
      "cell_type": "markdown",
      "source": [
        " 為了可以進行Box-Cox Transform，Age欄位中0的部分給予一個小值0.01"
      ],
      "metadata": {
        "id": "11PK3cKYQ1qG"
      },
      "id": "11PK3cKYQ1qG"
    },
    {
      "cell_type": "code",
      "execution_count": 28,
      "id": "abstract-alloy",
      "metadata": {
        "id": "abstract-alloy"
      },
      "outputs": [],
      "source": [
        "# looks like Age may have some 0s in it which won't work with Box-Cox\n",
        "covid_flu[covid_flu['Age']==0].head(3)\n",
        "\n",
        "covid_flu['Age'] = covid_flu['Age'] + 0.01  # to make Age strictly positive"
      ]
    },
    {
      "cell_type": "markdown",
      "source": [
        "所有數值型變數欄位做Box-Cox Transform"
      ],
      "metadata": {
        "id": "cNhfVPeDRaMe"
      },
      "id": "cNhfVPeDRaMe"
    },
    {
      "cell_type": "code",
      "execution_count": 29,
      "id": "optical-intensity",
      "metadata": {
        "colab": {
          "base_uri": "https://localhost:8080/",
          "height": 1000
        },
        "id": "optical-intensity",
        "outputId": "77cb6925-6452-4908-b11e-4126e8be733a"
      },
      "outputs": [
        {
          "output_type": "execute_result",
          "data": {
            "text/plain": [
              "array([[<matplotlib.axes._subplots.AxesSubplot object at 0x7fdd1b5b2110>,\n",
              "        <matplotlib.axes._subplots.AxesSubplot object at 0x7fdd1b567790>],\n",
              "       [<matplotlib.axes._subplots.AxesSubplot object at 0x7fdd1b51ed90>,\n",
              "        <matplotlib.axes._subplots.AxesSubplot object at 0x7fdd1b4e03d0>],\n",
              "       [<matplotlib.axes._subplots.AxesSubplot object at 0x7fdd1b4979d0>,\n",
              "        <matplotlib.axes._subplots.AxesSubplot object at 0x7fdd1b445b10>]],\n",
              "      dtype=object)"
            ]
          },
          "metadata": {},
          "execution_count": 29
        },
        {
          "output_type": "display_data",
          "data": {
            "text/plain": [
              "<Figure size 720x720 with 6 Axes>"
            ],
            "image/png": "[encoded data removed]"
          },
          "metadata": {
            "needs_background": "light"
          }
        },
        {
          "output_type": "display_data",
          "data": {
            "text/plain": [
              "<Figure size 720x720 with 6 Axes>"
            ],
            "image/png": "[encoded data removed]"
          },
          "metadata": {
            "needs_background": "light"
          }
        }
      ],
      "source": [
        "from sklearn.preprocessing import PowerTransformer\n",
        "\n",
        "boxcox_transformer = PowerTransformer(method='box-cox', standardize=False)\n",
        "pd.DataFrame(covid_flu[numerical_columns]).hist(figsize=(10, 10))\n",
        "\n",
        "pd.DataFrame(\n",
        "    boxcox_transformer.fit_transform(covid_flu[numerical_columns]), \n",
        "    columns=numerical_columns).hist(figsize=(10, 10))\n"
      ]
    },
    {
      "cell_type": "code",
      "execution_count": 30,
      "id": "consecutive-spyware",
      "metadata": {
        "colab": {
          "base_uri": "https://localhost:8080/"
        },
        "id": "consecutive-spyware",
        "outputId": "3705ee37-e7dd-4cb6-9a93-c2c16e4ed04f"
      },
      "outputs": [
        {
          "output_type": "execute_result",
          "data": {
            "text/plain": [
              "array([ 0.41035252, -0.22261792,  0.12473207, -0.24415703,  0.36376996,\n",
              "       -7.01162857])"
            ]
          },
          "metadata": {},
          "execution_count": 30
        }
      ],
      "source": [
        "boxcox_transformer.lambdas_"
      ]
    },
    {
      "cell_type": "code",
      "execution_count": 31,
      "id": "graduate-conference",
      "metadata": {
        "colab": {
          "base_uri": "https://localhost:8080/",
          "height": 300
        },
        "id": "graduate-conference",
        "outputId": "5cfe4f62-75e5-44c9-8d2c-f89886247fd4"
      },
      "outputs": [
        {
          "output_type": "execute_result",
          "data": {
            "text/plain": [
              "               Age  neutrophil  serumLevelsOfWhiteBloodCell  lymphocytes  \\\n",
              "count  1454.000000  103.000000                   151.000000   156.000000   \n",
              "mean     26.481040    6.854078                     6.885159     1.850154   \n",
              "std      21.487982   12.690131                     4.346668     3.956668   \n",
              "min       0.010000    0.446000                     0.500000     0.130000   \n",
              "25%       7.010000    2.160000                     3.995000     0.637500   \n",
              "50%      24.010000    3.310000                     5.690000     0.905500   \n",
              "75%      42.010000    6.645000                     9.155000     1.605000   \n",
              "max      88.010000   93.000000                    36.070000    30.600000   \n",
              "\n",
              "       DurationOfIllness  Temperature  \n",
              "count          87.000000   628.000000  \n",
              "mean           13.988506    38.068312  \n",
              "std             9.043171     1.094468  \n",
              "min             1.000000    35.722222  \n",
              "25%             7.000000    37.222222  \n",
              "50%            12.000000    38.000000  \n",
              "75%            20.000000    38.722222  \n",
              "max            37.000000    42.222222  "
            ],
            "text/html": [
              "\n",
              "  <div id=\"df-8cb3eebf-4c8e-431f-a784-5112e9b38f66\">\n",
              "    <div class=\"colab-df-container\">\n",
              "      <div>\n",
              "<style scoped>\n",
              "    .dataframe tbody tr th:only-of-type {\n",
              "        vertical-align: middle;\n",
              "    }\n",
              "\n",
              "    .dataframe tbody tr th {\n",
              "        vertical-align: top;\n",
              "    }\n",
              "\n",
              "    .dataframe thead th {\n",
              "        text-align: right;\n",
              "    }\n",
              "</style>\n",
              "<table border=\"1\" class=\"dataframe\">\n",
              "  <thead>\n",
              "    <tr style=\"text-align: right;\">\n",
              "      <th></th>\n",
              "      <th>Age</th>\n",
              "      <th>neutrophil</th>\n",
              "      <th>serumLevelsOfWhiteBloodCell</th>\n",
              "      <th>lymphocytes</th>\n",
              "      <th>DurationOfIllness</th>\n",
              "      <th>Temperature</th>\n",
              "    </tr>\n",
              "  </thead>\n",
              "  <tbody>\n",
              "    <tr>\n",
              "      <th>count</th>\n",
              "      <td>1454.000000</td>\n",
              "      <td>103.000000</td>\n",
              "      <td>151.000000</td>\n",
              "      <td>156.000000</td>\n",
              "      <td>87.000000</td>\n",
              "      <td>628.000000</td>\n",
              "    </tr>\n",
              "    <tr>\n",
              "      <th>mean</th>\n",
              "      <td>26.481040</td>\n",
              "      <td>6.854078</td>\n",
              "      <td>6.885159</td>\n",
              "      <td>1.850154</td>\n",
              "      <td>13.988506</td>\n",
              "      <td>38.068312</td>\n",
              "    </tr>\n",
              "    <tr>\n",
              "      <th>std</th>\n",
              "      <td>21.487982</td>\n",
              "      <td>12.690131</td>\n",
              "      <td>4.346668</td>\n",
              "      <td>3.956668</td>\n",
              "      <td>9.043171</td>\n",
              "      <td>1.094468</td>\n",
              "    </tr>\n",
              "    <tr>\n",
              "      <th>min</th>\n",
              "      <td>0.010000</td>\n",
              "      <td>0.446000</td>\n",
              "      <td>0.500000</td>\n",
              "      <td>0.130000</td>\n",
              "      <td>1.000000</td>\n",
              "      <td>35.722222</td>\n",
              "    </tr>\n",
              "    <tr>\n",
              "      <th>25%</th>\n",
              "      <td>7.010000</td>\n",
              "      <td>2.160000</td>\n",
              "      <td>3.995000</td>\n",
              "      <td>0.637500</td>\n",
              "      <td>7.000000</td>\n",
              "      <td>37.222222</td>\n",
              "    </tr>\n",
              "    <tr>\n",
              "      <th>50%</th>\n",
              "      <td>24.010000</td>\n",
              "      <td>3.310000</td>\n",
              "      <td>5.690000</td>\n",
              "      <td>0.905500</td>\n",
              "      <td>12.000000</td>\n",
              "      <td>38.000000</td>\n",
              "    </tr>\n",
              "    <tr>\n",
              "      <th>75%</th>\n",
              "      <td>42.010000</td>\n",
              "      <td>6.645000</td>\n",
              "      <td>9.155000</td>\n",
              "      <td>1.605000</td>\n",
              "      <td>20.000000</td>\n",
              "      <td>38.722222</td>\n",
              "    </tr>\n",
              "    <tr>\n",
              "      <th>max</th>\n",
              "      <td>88.010000</td>\n",
              "      <td>93.000000</td>\n",
              "      <td>36.070000</td>\n",
              "      <td>30.600000</td>\n",
              "      <td>37.000000</td>\n",
              "      <td>42.222222</td>\n",
              "    </tr>\n",
              "  </tbody>\n",
              "</table>\n",
              "</div>\n",
              "      <button class=\"colab-df-convert\" onclick=\"convertToInteractive('df-8cb3eebf-4c8e-431f-a784-5112e9b38f66')\"\n",
              "              title=\"Convert this dataframe to an interactive table.\"\n",
              "              style=\"display:none;\">\n",
              "        \n",
              "  <svg xmlns=\"http://www.w3.org/2000/svg\" height=\"24px\"viewBox=\"0 0 24 24\"\n",
              "       width=\"24px\">\n",
              "    <path d=\"M0 0h24v24H0V0z\" fill=\"none\"/>\n",
              "    <path d=\"M18.56 5.44l.94 2.06.94-2.06 2.06-.94-2.06-.94-.94-2.06-.94 2.06-2.06.94zm-11 1L8.5 8.5l.94-2.06 2.06-.94-2.06-.94L8.5 2.5l-.94 2.06-2.06.94zm10 10l.94 2.06.94-2.06 2.06-.94-2.06-.94-.94-2.06-.94 2.06-2.06.94z\"/><path d=\"M17.41 7.96l-1.37-1.37c-.4-.4-.92-.59-1.43-.59-.52 0-1.04.2-1.43.59L10.3 9.45l-7.72 7.72c-.78.78-.78 2.05 0 2.83L4 21.41c.39.39.9.59 1.41.59.51 0 1.02-.2 1.41-.59l7.78-7.78 2.81-2.81c.8-.78.8-2.07 0-2.86zM5.41 20L4 18.59l7.72-7.72 1.47 1.35L5.41 20z\"/>\n",
              "  </svg>\n",
              "      </button>\n",
              "      \n",
              "  <style>\n",
              "    .colab-df-container {\n",
              "      display:flex;\n",
              "      flex-wrap:wrap;\n",
              "      gap: 12px;\n",
              "    }\n",
              "\n",
              "    .colab-df-convert {\n",
              "      background-color: #E8F0FE;\n",
              "      border: none;\n",
              "      border-radius: 50%;\n",
              "      cursor: pointer;\n",
              "      display: none;\n",
              "      fill: #1967D2;\n",
              "      height: 32px;\n",
              "      padding: 0 0 0 0;\n",
              "      width: 32px;\n",
              "    }\n",
              "\n",
              "    .colab-df-convert:hover {\n",
              "      background-color: #E2EBFA;\n",
              "      box-shadow: 0px 1px 2px rgba(60, 64, 67, 0.3), 0px 1px 3px 1px rgba(60, 64, 67, 0.15);\n",
              "      fill: #174EA6;\n",
              "    }\n",
              "\n",
              "    [theme=dark] .colab-df-convert {\n",
              "      background-color: #3B4455;\n",
              "      fill: #D2E3FC;\n",
              "    }\n",
              "\n",
              "    [theme=dark] .colab-df-convert:hover {\n",
              "      background-color: #434B5C;\n",
              "      box-shadow: 0px 1px 3px 1px rgba(0, 0, 0, 0.15);\n",
              "      filter: drop-shadow(0px 1px 2px rgba(0, 0, 0, 0.3));\n",
              "      fill: #FFFFFF;\n",
              "    }\n",
              "  </style>\n",
              "\n",
              "      <script>\n",
              "        const buttonEl =\n",
              "          document.querySelector('#df-8cb3eebf-4c8e-431f-a784-5112e9b38f66 button.colab-df-convert');\n",
              "        buttonEl.style.display =\n",
              "          google.colab.kernel.accessAllowed ? 'block' : 'none';\n",
              "\n",
              "        async function convertToInteractive(key) {\n",
              "          const element = document.querySelector('#df-8cb3eebf-4c8e-431f-a784-5112e9b38f66');\n",
              "          const dataTable =\n",
              "            await google.colab.kernel.invokeFunction('convertToInteractive',\n",
              "                                                     [key], {});\n",
              "          if (!dataTable) return;\n",
              "\n",
              "          const docLinkHtml = 'Like what you see? Visit the ' +\n",
              "            '<a target=\"_blank\" href=https://colab.research.google.com/notebooks/data_table.ipynb>data table notebook</a>'\n",
              "            + ' to learn more about interactive tables.';\n",
              "          element.innerHTML = '';\n",
              "          dataTable['output_type'] = 'display_data';\n",
              "          await google.colab.output.renderOutput(dataTable, element);\n",
              "          const docLink = document.createElement('div');\n",
              "          docLink.innerHTML = docLinkHtml;\n",
              "          element.appendChild(docLink);\n",
              "        }\n",
              "      </script>\n",
              "    </div>\n",
              "  </div>\n",
              "  "
            ]
          },
          "metadata": {},
          "execution_count": 31
        }
      ],
      "source": [
        "# before any transformations, scales are all over the place as are means and standard deviations\n",
        "covid_flu[numerical_columns].describe()   "
      ]
    },
    {
      "cell_type": "code",
      "execution_count": 32,
      "id": "billion-prediction",
      "metadata": {
        "colab": {
          "base_uri": "https://localhost:8080/",
          "height": 408
        },
        "id": "billion-prediction",
        "outputId": "9ceeb083-325b-4b32-8843-f14cce06d0b6"
      },
      "outputs": [
        {
          "output_type": "execute_result",
          "data": {
            "text/plain": [
              "array([[<matplotlib.axes._subplots.AxesSubplot object at 0x7fdd1b1512d0>,\n",
              "        <matplotlib.axes._subplots.AxesSubplot object at 0x7fdd1b16ee10>],\n",
              "       [<matplotlib.axes._subplots.AxesSubplot object at 0x7fdd1b0ce590>,\n",
              "        <matplotlib.axes._subplots.AxesSubplot object at 0x7fdd1b084b90>],\n",
              "       [<matplotlib.axes._subplots.AxesSubplot object at 0x7fdd1b04a210>,\n",
              "        <matplotlib.axes._subplots.AxesSubplot object at 0x7fdd1b0024d0>]],\n",
              "      dtype=object)"
            ]
          },
          "metadata": {},
          "execution_count": 32
        },
        {
          "output_type": "display_data",
          "data": {
            "text/plain": [
              "<Figure size 432x288 with 6 Axes>"
            ],
            "image/png": "[encoded data removed]"
          },
          "metadata": {
            "needs_background": "light"
          }
        }
      ],
      "source": [
        "covid_flu[numerical_columns].hist()"
      ]
    },
    {
      "cell_type": "markdown",
      "source": [
        "## Feature scaling/standardization\n",
        "\n",
        "Standardizations, i.e. min-max or z-score, don't affect the distribtuion of the features like the log and Box-Cox transformations, and they both help deal with the effects of outliers."
      ],
      "metadata": {
        "id": "oCjKH74-bnxF"
      },
      "id": "oCjKH74-bnxF"
    },
    {
      "cell_type": "code",
      "execution_count": null,
      "id": "technical-compression",
      "metadata": {
        "id": "technical-compression",
        "outputId": "4cdc8616-143f-4add-ac10-716f43e02d20"
      },
      "outputs": [
        {
          "data": {
            "text/plain": [
              "array([[<AxesSubplot:title={'center':'Age'}>,\n",
              "        <AxesSubplot:title={'center':'neutrophil'}>],\n",
              "       [<AxesSubplot:title={'center':'serumLevelsOfWhiteBloodCell'}>,\n",
              "        <AxesSubplot:title={'center':'lymphocytes'}>],\n",
              "       [<AxesSubplot:title={'center':'DurationOfIllness'}>,\n",
              "        <AxesSubplot:title={'center':'Temperature'}>]], dtype=object)"
            ]
          },
          "execution_count": 22,
          "metadata": {},
          "output_type": "execute_result"
        },
        {
          "data": {
            "image/png": "[encoded data removed]",
            "text/plain": [
              "<Figure size 432x288 with 6 Axes>"
            ]
          },
          "metadata": {
            "needs_background": "light"
          },
          "output_type": "display_data"
        }
      ],
      "source": [
        "from sklearn.preprocessing import MinMaxScaler\n",
        "pd.DataFrame(  # mean of 0 and std of 1 but ranges are different (see min and max)\n",
        "    MinMaxScaler().fit_transform(covid_flu[numerical_columns]),\n",
        "    columns=numerical_columns\n",
        ").hist()\n"
      ]
    },
    {
      "cell_type": "markdown",
      "source": [
        "對數值型變數做標準化"
      ],
      "metadata": {
        "id": "kILkYjVHSLEw"
      },
      "id": "kILkYjVHSLEw"
    },
    {
      "cell_type": "code",
      "execution_count": 33,
      "id": "considerable-newspaper",
      "metadata": {
        "colab": {
          "base_uri": "https://localhost:8080/",
          "height": 300
        },
        "id": "considerable-newspaper",
        "outputId": "4b63fbe1-6f23-498e-8f74-d8ffbe4f7ec4"
      },
      "outputs": [
        {
          "output_type": "execute_result",
          "data": {
            "text/plain": [
              "                Age  neutrophil  serumLevelsOfWhiteBloodCell   lymphocytes  \\\n",
              "count  1.454000e+03  103.000000                 1.510000e+02  1.560000e+02   \n",
              "mean   1.368308e-16    0.000000                -1.411674e-16 -1.708035e-17   \n",
              "std    1.000344e+00    1.004890                 1.003328e+00  1.003221e+00   \n",
              "min   -1.232324e+00   -0.507435                -1.473866e+00 -4.361482e-01   \n",
              "25%   -9.064480e-01   -0.371709                -6.671264e-01 -3.074706e-01   \n",
              "50%   -1.150359e-01   -0.280644                -2.758748e-01 -2.395187e-01   \n",
              "75%    7.229298e-01   -0.016556                 5.239403e-01 -6.215921e-02   \n",
              "max    2.864398e+00    6.821614                 6.736646e+00  7.289577e+00   \n",
              "\n",
              "       DurationOfIllness   Temperature  \n",
              "count       8.700000e+01  6.280000e+02  \n",
              "mean       -5.614921e-17  1.708471e-15  \n",
              "std         1.005797e+00  1.000797e+00  \n",
              "min        -1.444604e+00 -2.145299e+00  \n",
              "25%        -7.772737e-01 -7.736770e-01  \n",
              "50%        -2.211651e-01 -6.246559e-02  \n",
              "75%         6.686088e-01  5.979450e-01  \n",
              "max         2.559378e+00  3.798396e+00  "
            ],
            "text/html": [
              "\n",
              "  <div id=\"df-e79a566c-c52a-42f5-a4e8-b213394b06c4\">\n",
              "    <div class=\"colab-df-container\">\n",
              "      <div>\n",
              "<style scoped>\n",
              "    .dataframe tbody tr th:only-of-type {\n",
              "        vertical-align: middle;\n",
              "    }\n",
              "\n",
              "    .dataframe tbody tr th {\n",
              "        vertical-align: top;\n",
              "    }\n",
              "\n",
              "    .dataframe thead th {\n",
              "        text-align: right;\n",
              "    }\n",
              "</style>\n",
              "<table border=\"1\" class=\"dataframe\">\n",
              "  <thead>\n",
              "    <tr style=\"text-align: right;\">\n",
              "      <th></th>\n",
              "      <th>Age</th>\n",
              "      <th>neutrophil</th>\n",
              "      <th>serumLevelsOfWhiteBloodCell</th>\n",
              "      <th>lymphocytes</th>\n",
              "      <th>DurationOfIllness</th>\n",
              "      <th>Temperature</th>\n",
              "    </tr>\n",
              "  </thead>\n",
              "  <tbody>\n",
              "    <tr>\n",
              "      <th>count</th>\n",
              "      <td>1.454000e+03</td>\n",
              "      <td>103.000000</td>\n",
              "      <td>1.510000e+02</td>\n",
              "      <td>1.560000e+02</td>\n",
              "      <td>8.700000e+01</td>\n",
              "      <td>6.280000e+02</td>\n",
              "    </tr>\n",
              "    <tr>\n",
              "      <th>mean</th>\n",
              "      <td>1.368308e-16</td>\n",
              "      <td>0.000000</td>\n",
              "      <td>-1.411674e-16</td>\n",
              "      <td>-1.708035e-17</td>\n",
              "      <td>-5.614921e-17</td>\n",
              "      <td>1.708471e-15</td>\n",
              "    </tr>\n",
              "    <tr>\n",
              "      <th>std</th>\n",
              "      <td>1.000344e+00</td>\n",
              "      <td>1.004890</td>\n",
              "      <td>1.003328e+00</td>\n",
              "      <td>1.003221e+00</td>\n",
              "      <td>1.005797e+00</td>\n",
              "      <td>1.000797e+00</td>\n",
              "    </tr>\n",
              "    <tr>\n",
              "      <th>min</th>\n",
              "      <td>-1.232324e+00</td>\n",
              "      <td>-0.507435</td>\n",
              "      <td>-1.473866e+00</td>\n",
              "      <td>-4.361482e-01</td>\n",
              "      <td>-1.444604e+00</td>\n",
              "      <td>-2.145299e+00</td>\n",
              "    </tr>\n",
              "    <tr>\n",
              "      <th>25%</th>\n",
              "      <td>-9.064480e-01</td>\n",
              "      <td>-0.371709</td>\n",
              "      <td>-6.671264e-01</td>\n",
              "      <td>-3.074706e-01</td>\n",
              "      <td>-7.772737e-01</td>\n",
              "      <td>-7.736770e-01</td>\n",
              "    </tr>\n",
              "    <tr>\n",
              "      <th>50%</th>\n",
              "      <td>-1.150359e-01</td>\n",
              "      <td>-0.280644</td>\n",
              "      <td>-2.758748e-01</td>\n",
              "      <td>-2.395187e-01</td>\n",
              "      <td>-2.211651e-01</td>\n",
              "      <td>-6.246559e-02</td>\n",
              "    </tr>\n",
              "    <tr>\n",
              "      <th>75%</th>\n",
              "      <td>7.229298e-01</td>\n",
              "      <td>-0.016556</td>\n",
              "      <td>5.239403e-01</td>\n",
              "      <td>-6.215921e-02</td>\n",
              "      <td>6.686088e-01</td>\n",
              "      <td>5.979450e-01</td>\n",
              "    </tr>\n",
              "    <tr>\n",
              "      <th>max</th>\n",
              "      <td>2.864398e+00</td>\n",
              "      <td>6.821614</td>\n",
              "      <td>6.736646e+00</td>\n",
              "      <td>7.289577e+00</td>\n",
              "      <td>2.559378e+00</td>\n",
              "      <td>3.798396e+00</td>\n",
              "    </tr>\n",
              "  </tbody>\n",
              "</table>\n",
              "</div>\n",
              "      <button class=\"colab-df-convert\" onclick=\"convertToInteractive('df-e79a566c-c52a-42f5-a4e8-b213394b06c4')\"\n",
              "              title=\"Convert this dataframe to an interactive table.\"\n",
              "              style=\"display:none;\">\n",
              "        \n",
              "  <svg xmlns=\"http://www.w3.org/2000/svg\" height=\"24px\"viewBox=\"0 0 24 24\"\n",
              "       width=\"24px\">\n",
              "    <path d=\"M0 0h24v24H0V0z\" fill=\"none\"/>\n",
              "    <path d=\"M18.56 5.44l.94 2.06.94-2.06 2.06-.94-2.06-.94-.94-2.06-.94 2.06-2.06.94zm-11 1L8.5 8.5l.94-2.06 2.06-.94-2.06-.94L8.5 2.5l-.94 2.06-2.06.94zm10 10l.94 2.06.94-2.06 2.06-.94-2.06-.94-.94-2.06-.94 2.06-2.06.94z\"/><path d=\"M17.41 7.96l-1.37-1.37c-.4-.4-.92-.59-1.43-.59-.52 0-1.04.2-1.43.59L10.3 9.45l-7.72 7.72c-.78.78-.78 2.05 0 2.83L4 21.41c.39.39.9.59 1.41.59.51 0 1.02-.2 1.41-.59l7.78-7.78 2.81-2.81c.8-.78.8-2.07 0-2.86zM5.41 20L4 18.59l7.72-7.72 1.47 1.35L5.41 20z\"/>\n",
              "  </svg>\n",
              "      </button>\n",
              "      \n",
              "  <style>\n",
              "    .colab-df-container {\n",
              "      display:flex;\n",
              "      flex-wrap:wrap;\n",
              "      gap: 12px;\n",
              "    }\n",
              "\n",
              "    .colab-df-convert {\n",
              "      background-color: #E8F0FE;\n",
              "      border: none;\n",
              "      border-radius: 50%;\n",
              "      cursor: pointer;\n",
              "      display: none;\n",
              "      fill: #1967D2;\n",
              "      height: 32px;\n",
              "      padding: 0 0 0 0;\n",
              "      width: 32px;\n",
              "    }\n",
              "\n",
              "    .colab-df-convert:hover {\n",
              "      background-color: #E2EBFA;\n",
              "      box-shadow: 0px 1px 2px rgba(60, 64, 67, 0.3), 0px 1px 3px 1px rgba(60, 64, 67, 0.15);\n",
              "      fill: #174EA6;\n",
              "    }\n",
              "\n",
              "    [theme=dark] .colab-df-convert {\n",
              "      background-color: #3B4455;\n",
              "      fill: #D2E3FC;\n",
              "    }\n",
              "\n",
              "    [theme=dark] .colab-df-convert:hover {\n",
              "      background-color: #434B5C;\n",
              "      box-shadow: 0px 1px 3px 1px rgba(0, 0, 0, 0.15);\n",
              "      filter: drop-shadow(0px 1px 2px rgba(0, 0, 0, 0.3));\n",
              "      fill: #FFFFFF;\n",
              "    }\n",
              "  </style>\n",
              "\n",
              "      <script>\n",
              "        const buttonEl =\n",
              "          document.querySelector('#df-e79a566c-c52a-42f5-a4e8-b213394b06c4 button.colab-df-convert');\n",
              "        buttonEl.style.display =\n",
              "          google.colab.kernel.accessAllowed ? 'block' : 'none';\n",
              "\n",
              "        async function convertToInteractive(key) {\n",
              "          const element = document.querySelector('#df-e79a566c-c52a-42f5-a4e8-b213394b06c4');\n",
              "          const dataTable =\n",
              "            await google.colab.kernel.invokeFunction('convertToInteractive',\n",
              "                                                     [key], {});\n",
              "          if (!dataTable) return;\n",
              "\n",
              "          const docLinkHtml = 'Like what you see? Visit the ' +\n",
              "            '<a target=\"_blank\" href=https://colab.research.google.com/notebooks/data_table.ipynb>data table notebook</a>'\n",
              "            + ' to learn more about interactive tables.';\n",
              "          element.innerHTML = '';\n",
              "          dataTable['output_type'] = 'display_data';\n",
              "          await google.colab.output.renderOutput(dataTable, element);\n",
              "          const docLink = document.createElement('div');\n",
              "          docLink.innerHTML = docLinkHtml;\n",
              "          element.appendChild(docLink);\n",
              "        }\n",
              "      </script>\n",
              "    </div>\n",
              "  </div>\n",
              "  "
            ]
          },
          "metadata": {},
          "execution_count": 33
        }
      ],
      "source": [
        "from sklearn.preprocessing import StandardScaler\n",
        "\n",
        " # mean of 0 and std of 1 but ranges are different (see min and max)\n",
        "pd.DataFrame(\n",
        "    StandardScaler().fit_transform(covid_flu[numerical_columns]),\n",
        "    columns=numerical_columns\n",
        "    ).describe()"
      ]
    },
    {
      "cell_type": "code",
      "execution_count": 35,
      "id": "dirty-scout",
      "metadata": {
        "colab": {
          "base_uri": "https://localhost:8080/",
          "height": 300
        },
        "id": "dirty-scout",
        "outputId": "c52635c9-5499-4ee7-a5f9-a7867c51e1e6"
      },
      "outputs": [
        {
          "output_type": "execute_result",
          "data": {
            "text/plain": [
              "               Age  neutrophil  serumLevelsOfWhiteBloodCell  lymphocytes  \\\n",
              "count  1454.000000  103.000000                   151.000000   156.000000   \n",
              "mean      0.300807    0.069236                     0.179510     0.056454   \n",
              "std       0.244182    0.137111                     0.122200     0.129855   \n",
              "min       0.000000    0.000000                     0.000000     0.000000   \n",
              "25%       0.079545    0.018519                     0.098257     0.016656   \n",
              "50%       0.272727    0.030944                     0.145909     0.025451   \n",
              "75%       0.477273    0.066977                     0.243323     0.048408   \n",
              "max       1.000000    1.000000                     1.000000     1.000000   \n",
              "\n",
              "       DurationOfIllness  Temperature  \n",
              "count          87.000000   628.000000  \n",
              "mean            0.360792     0.360937  \n",
              "std             0.251199     0.168380  \n",
              "min             0.000000     0.000000  \n",
              "25%             0.166667     0.230769  \n",
              "50%             0.305556     0.350427  \n",
              "75%             0.527778     0.461538  \n",
              "max             1.000000     1.000000  "
            ],
            "text/html": [
              "\n",
              "  <div id=\"df-919e9ec2-5a76-4b73-bec2-51fef7b63ee7\">\n",
              "    <div class=\"colab-df-container\">\n",
              "      <div>\n",
              "<style scoped>\n",
              "    .dataframe tbody tr th:only-of-type {\n",
              "        vertical-align: middle;\n",
              "    }\n",
              "\n",
              "    .dataframe tbody tr th {\n",
              "        vertical-align: top;\n",
              "    }\n",
              "\n",
              "    .dataframe thead th {\n",
              "        text-align: right;\n",
              "    }\n",
              "</style>\n",
              "<table border=\"1\" class=\"dataframe\">\n",
              "  <thead>\n",
              "    <tr style=\"text-align: right;\">\n",
              "      <th></th>\n",
              "      <th>Age</th>\n",
              "      <th>neutrophil</th>\n",
              "      <th>serumLevelsOfWhiteBloodCell</th>\n",
              "      <th>lymphocytes</th>\n",
              "      <th>DurationOfIllness</th>\n",
              "      <th>Temperature</th>\n",
              "    </tr>\n",
              "  </thead>\n",
              "  <tbody>\n",
              "    <tr>\n",
              "      <th>count</th>\n",
              "      <td>1454.000000</td>\n",
              "      <td>103.000000</td>\n",
              "      <td>151.000000</td>\n",
              "      <td>156.000000</td>\n",
              "      <td>87.000000</td>\n",
              "      <td>628.000000</td>\n",
              "    </tr>\n",
              "    <tr>\n",
              "      <th>mean</th>\n",
              "      <td>0.300807</td>\n",
              "      <td>0.069236</td>\n",
              "      <td>0.179510</td>\n",
              "      <td>0.056454</td>\n",
              "      <td>0.360792</td>\n",
              "      <td>0.360937</td>\n",
              "    </tr>\n",
              "    <tr>\n",
              "      <th>std</th>\n",
              "      <td>0.244182</td>\n",
              "      <td>0.137111</td>\n",
              "      <td>0.122200</td>\n",
              "      <td>0.129855</td>\n",
              "      <td>0.251199</td>\n",
              "      <td>0.168380</td>\n",
              "    </tr>\n",
              "    <tr>\n",
              "      <th>min</th>\n",
              "      <td>0.000000</td>\n",
              "      <td>0.000000</td>\n",
              "      <td>0.000000</td>\n",
              "      <td>0.000000</td>\n",
              "      <td>0.000000</td>\n",
              "      <td>0.000000</td>\n",
              "    </tr>\n",
              "    <tr>\n",
              "      <th>25%</th>\n",
              "      <td>0.079545</td>\n",
              "      <td>0.018519</td>\n",
              "      <td>0.098257</td>\n",
              "      <td>0.016656</td>\n",
              "      <td>0.166667</td>\n",
              "      <td>0.230769</td>\n",
              "    </tr>\n",
              "    <tr>\n",
              "      <th>50%</th>\n",
              "      <td>0.272727</td>\n",
              "      <td>0.030944</td>\n",
              "      <td>0.145909</td>\n",
              "      <td>0.025451</td>\n",
              "      <td>0.305556</td>\n",
              "      <td>0.350427</td>\n",
              "    </tr>\n",
              "    <tr>\n",
              "      <th>75%</th>\n",
              "      <td>0.477273</td>\n",
              "      <td>0.066977</td>\n",
              "      <td>0.243323</td>\n",
              "      <td>0.048408</td>\n",
              "      <td>0.527778</td>\n",
              "      <td>0.461538</td>\n",
              "    </tr>\n",
              "    <tr>\n",
              "      <th>max</th>\n",
              "      <td>1.000000</td>\n",
              "      <td>1.000000</td>\n",
              "      <td>1.000000</td>\n",
              "      <td>1.000000</td>\n",
              "      <td>1.000000</td>\n",
              "      <td>1.000000</td>\n",
              "    </tr>\n",
              "  </tbody>\n",
              "</table>\n",
              "</div>\n",
              "      <button class=\"colab-df-convert\" onclick=\"convertToInteractive('df-919e9ec2-5a76-4b73-bec2-51fef7b63ee7')\"\n",
              "              title=\"Convert this dataframe to an interactive table.\"\n",
              "              style=\"display:none;\">\n",
              "        \n",
              "  <svg xmlns=\"http://www.w3.org/2000/svg\" height=\"24px\"viewBox=\"0 0 24 24\"\n",
              "       width=\"24px\">\n",
              "    <path d=\"M0 0h24v24H0V0z\" fill=\"none\"/>\n",
              "    <path d=\"M18.56 5.44l.94 2.06.94-2.06 2.06-.94-2.06-.94-.94-2.06-.94 2.06-2.06.94zm-11 1L8.5 8.5l.94-2.06 2.06-.94-2.06-.94L8.5 2.5l-.94 2.06-2.06.94zm10 10l.94 2.06.94-2.06 2.06-.94-2.06-.94-.94-2.06-.94 2.06-2.06.94z\"/><path d=\"M17.41 7.96l-1.37-1.37c-.4-.4-.92-.59-1.43-.59-.52 0-1.04.2-1.43.59L10.3 9.45l-7.72 7.72c-.78.78-.78 2.05 0 2.83L4 21.41c.39.39.9.59 1.41.59.51 0 1.02-.2 1.41-.59l7.78-7.78 2.81-2.81c.8-.78.8-2.07 0-2.86zM5.41 20L4 18.59l7.72-7.72 1.47 1.35L5.41 20z\"/>\n",
              "  </svg>\n",
              "      </button>\n",
              "      \n",
              "  <style>\n",
              "    .colab-df-container {\n",
              "      display:flex;\n",
              "      flex-wrap:wrap;\n",
              "      gap: 12px;\n",
              "    }\n",
              "\n",
              "    .colab-df-convert {\n",
              "      background-color: #E8F0FE;\n",
              "      border: none;\n",
              "      border-radius: 50%;\n",
              "      cursor: pointer;\n",
              "      display: none;\n",
              "      fill: #1967D2;\n",
              "      height: 32px;\n",
              "      padding: 0 0 0 0;\n",
              "      width: 32px;\n",
              "    }\n",
              "\n",
              "    .colab-df-convert:hover {\n",
              "      background-color: #E2EBFA;\n",
              "      box-shadow: 0px 1px 2px rgba(60, 64, 67, 0.3), 0px 1px 3px 1px rgba(60, 64, 67, 0.15);\n",
              "      fill: #174EA6;\n",
              "    }\n",
              "\n",
              "    [theme=dark] .colab-df-convert {\n",
              "      background-color: #3B4455;\n",
              "      fill: #D2E3FC;\n",
              "    }\n",
              "\n",
              "    [theme=dark] .colab-df-convert:hover {\n",
              "      background-color: #434B5C;\n",
              "      box-shadow: 0px 1px 3px 1px rgba(0, 0, 0, 0.15);\n",
              "      filter: drop-shadow(0px 1px 2px rgba(0, 0, 0, 0.3));\n",
              "      fill: #FFFFFF;\n",
              "    }\n",
              "  </style>\n",
              "\n",
              "      <script>\n",
              "        const buttonEl =\n",
              "          document.querySelector('#df-919e9ec2-5a76-4b73-bec2-51fef7b63ee7 button.colab-df-convert');\n",
              "        buttonEl.style.display =\n",
              "          google.colab.kernel.accessAllowed ? 'block' : 'none';\n",
              "\n",
              "        async function convertToInteractive(key) {\n",
              "          const element = document.querySelector('#df-919e9ec2-5a76-4b73-bec2-51fef7b63ee7');\n",
              "          const dataTable =\n",
              "            await google.colab.kernel.invokeFunction('convertToInteractive',\n",
              "                                                     [key], {});\n",
              "          if (!dataTable) return;\n",
              "\n",
              "          const docLinkHtml = 'Like what you see? Visit the ' +\n",
              "            '<a target=\"_blank\" href=https://colab.research.google.com/notebooks/data_table.ipynb>data table notebook</a>'\n",
              "            + ' to learn more about interactive tables.';\n",
              "          element.innerHTML = '';\n",
              "          dataTable['output_type'] = 'display_data';\n",
              "          await google.colab.output.renderOutput(dataTable, element);\n",
              "          const docLink = document.createElement('div');\n",
              "          docLink.innerHTML = docLinkHtml;\n",
              "          element.appendChild(docLink);\n",
              "        }\n",
              "      </script>\n",
              "    </div>\n",
              "  </div>\n",
              "  "
            ]
          },
          "metadata": {},
          "execution_count": 35
        }
      ],
      "source": [
        "from sklearn.preprocessing import MinMaxScaler\n",
        "\n",
        "# mean and std are different but min and max are 0s and 1s\n",
        "pd.DataFrame(  \n",
        "    MinMaxScaler().fit_transform(covid_flu[numerical_columns]),\n",
        "    columns=numerical_columns\n",
        "    ).describe()"
      ]
    },
    {
      "cell_type": "markdown",
      "source": [
        "![image.png](data:image/png;base64,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)"
      ],
      "metadata": {
        "id": "RIsXErTqc1AP"
      },
      "id": "RIsXErTqc1AP"
    },
    {
      "cell_type": "markdown",
      "source": [
        "找出所有類別型變數欄位名稱"
      ],
      "metadata": {
        "id": "1AYtO5-OTa4T"
      },
      "id": "1AYtO5-OTa4T"
    },
    {
      "cell_type": "code",
      "source": [
        "categorical_types = ['O']  # Just the \"object\" type\n",
        "categorical_columns = covid_flu.select_dtypes(include=categorical_types).columns.tolist()\n",
        "categorical_columns"
      ],
      "metadata": {
        "colab": {
          "base_uri": "https://localhost:8080/"
        },
        "id": "Ri39Q0cgTEFK",
        "outputId": "3ce602c0-d44f-408e-c181-cde63ab7fdef"
      },
      "id": "Ri39Q0cgTEFK",
      "execution_count": 36,
      "outputs": [
        {
          "output_type": "execute_result",
          "data": {
            "text/plain": [
              "['Diagnosis',\n",
              " 'InitialPCRDiagnosis',\n",
              " 'Sex',\n",
              " 'CReactiveProteinLevels',\n",
              " 'CTscanResults',\n",
              " 'RiskFactors',\n",
              " 'GroundGlassOpacity',\n",
              " 'Diarrhea',\n",
              " 'Fever',\n",
              " 'Coughing',\n",
              " 'ShortnessOfBreath',\n",
              " 'SoreThroat',\n",
              " 'NauseaVomitting',\n",
              " 'Fatigue']"
            ]
          },
          "metadata": {},
          "execution_count": 36
        }
      ]
    },
    {
      "cell_type": "markdown",
      "source": [
        "從類別型變數欄位名稱中移除目標變數名稱"
      ],
      "metadata": {
        "id": "49uwOs7OToYY"
      },
      "id": "49uwOs7OToYY"
    },
    {
      "cell_type": "code",
      "source": [
        "categorical_columns.remove('Diagnosis')  # our response variable"
      ],
      "metadata": {
        "id": "AR0uUr1GTh5j"
      },
      "id": "AR0uUr1GTh5j",
      "execution_count": 37,
      "outputs": []
    },
    {
      "cell_type": "code",
      "source": [
        "categorical_columns"
      ],
      "metadata": {
        "colab": {
          "base_uri": "https://localhost:8080/"
        },
        "id": "tYWSPIhCTwgK",
        "outputId": "69c4e9f5-a7a3-418a-838b-6ad28030aefb"
      },
      "id": "tYWSPIhCTwgK",
      "execution_count": 38,
      "outputs": [
        {
          "output_type": "execute_result",
          "data": {
            "text/plain": [
              "['InitialPCRDiagnosis',\n",
              " 'Sex',\n",
              " 'CReactiveProteinLevels',\n",
              " 'CTscanResults',\n",
              " 'RiskFactors',\n",
              " 'GroundGlassOpacity',\n",
              " 'Diarrhea',\n",
              " 'Fever',\n",
              " 'Coughing',\n",
              " 'ShortnessOfBreath',\n",
              " 'SoreThroat',\n",
              " 'NauseaVomitting',\n",
              " 'Fatigue']"
            ]
          },
          "metadata": {},
          "execution_count": 38
        }
      ]
    },
    {
      "cell_type": "code",
      "execution_count": 39,
      "id": "worldwide-turtle",
      "metadata": {
        "colab": {
          "base_uri": "https://localhost:8080/"
        },
        "id": "worldwide-turtle",
        "outputId": "1811e80d-4b19-4941-e60e-5cb38c2c53f8"
      },
      "outputs": [
        {
          "output_type": "stream",
          "name": "stdout",
          "text": [
            "=======\n",
            "InitialPCRDiagnosis\n",
            "=======\n",
            "NaN    1378\n",
            "Yes     100\n",
            "No        4\n",
            "Name: InitialPCRDiagnosis, dtype: int64\n",
            "=======\n",
            "Sex\n",
            "=======\n",
            "M      748\n",
            "F      658\n",
            "NaN     76\n",
            "Name: Sex, dtype: int64\n",
            "=======\n",
            "CReactiveProteinLevels\n",
            "=======\n",
            "NaN           1345\n",
            "8                3\n",
            "0.5              3\n",
            "15               3\n",
            "111              2\n",
            "              ... \n",
            "5.78             1\n",
            "67.62            1\n",
            "13.2 mg/dL       1\n",
            "21.27            1\n",
            "0.6              1\n",
            "Name: CReactiveProteinLevels, Length: 121, dtype: int64\n",
            "=======\n",
            "CTscanResults\n",
            "=======\n",
            "NaN    1323\n",
            "Yes     144\n",
            "No       15\n",
            "Name: CTscanResults, dtype: int64\n",
            "=======\n",
            "RiskFactors\n",
            "=======\n",
            "NaN                                                                   1273\n",
            "asthma                                                                  36\n",
            "pneumonia                                                               21\n",
            "immuno                                                                  21\n",
            "diabetes                                                                16\n",
            "                                                                      ... \n",
            "diabetes, Hypertension                                                   1\n",
            "Hypertension, Heart Disease, chronic obstructive pulmonary disease       1\n",
            "rheumatoid arthritis                                                     1\n",
            "hematological disease, immuno, Renal Disease                             1\n",
            "Lung Disease                                                             1\n",
            "Name: RiskFactors, Length: 64, dtype: int64\n",
            "=======\n",
            "GroundGlassOpacity\n",
            "=======\n",
            "NaN    1389\n",
            "Yes      90\n",
            "No        3\n",
            "Name: GroundGlassOpacity, dtype: int64\n",
            "=======\n",
            "Diarrhea\n",
            "=======\n",
            "NaN    1032\n",
            "No      340\n",
            "Yes     110\n",
            "Name: Diarrhea, dtype: int64\n",
            "=======\n",
            "Fever\n",
            "=======\n",
            "Yes    777\n",
            "NaN    559\n",
            "No     146\n",
            "Name: Fever, dtype: int64\n",
            "=======\n",
            "Coughing\n",
            "=======\n",
            "Yes    745\n",
            "NaN    623\n",
            "No     114\n",
            "Name: Coughing, dtype: int64\n",
            "=======\n",
            "ShortnessOfBreath\n",
            "=======\n",
            "NaN    1407\n",
            "Yes      45\n",
            "No       30\n",
            "Name: ShortnessOfBreath, dtype: int64\n",
            "=======\n",
            "SoreThroat\n",
            "=======\n",
            "NaN    812\n",
            "Yes    407\n",
            "No     263\n",
            "Name: SoreThroat, dtype: int64\n",
            "=======\n",
            "NauseaVomitting\n",
            "=======\n",
            "NaN    1061\n",
            "No      319\n",
            "Yes     102\n",
            "Name: NauseaVomitting, dtype: int64\n",
            "=======\n",
            "Fatigue\n",
            "=======\n",
            "NaN    951\n",
            "Yes    348\n",
            "No     183\n",
            "Name: Fatigue, dtype: int64\n"
          ]
        }
      ],
      "source": [
        "for categorical_column in categorical_columns:\n",
        "    print('=======')\n",
        "    print(categorical_column)\n",
        "    print('=======')\n",
        "    print(covid_flu[categorical_column].value_counts(dropna=False))\n",
        "    "
      ]
    },
    {
      "cell_type": "code",
      "execution_count": 44,
      "id": "suspended-abuse",
      "metadata": {
        "id": "suspended-abuse"
      },
      "outputs": [],
      "source": [
        "# Turn our Sex column into a binary column\n",
        "covid_flu['Female'] = covid_flu['Sex'] == 'F'\n",
        "del covid_flu['Sex']"
      ]
    },
    {
      "cell_type": "code",
      "source": [
        "covid_flu['Female']"
      ],
      "metadata": {
        "colab": {
          "base_uri": "https://localhost:8080/"
        },
        "id": "cMFvdaYmUeN2",
        "outputId": "98226e9f-999f-4a30-ca87-0300bedf7090"
      },
      "id": "cMFvdaYmUeN2",
      "execution_count": 45,
      "outputs": [
        {
          "output_type": "execute_result",
          "data": {
            "text/plain": [
              "0        True\n",
              "1       False\n",
              "2        True\n",
              "3        True\n",
              "4       False\n",
              "        ...  \n",
              "1477    False\n",
              "1478    False\n",
              "1479    False\n",
              "1480    False\n",
              "1481    False\n",
              "Name: Female, Length: 1482, dtype: bool"
            ]
          },
          "metadata": {},
          "execution_count": 45
        }
      ]
    },
    {
      "cell_type": "code",
      "execution_count": 46,
      "id": "stupid-omaha",
      "metadata": {
        "colab": {
          "base_uri": "https://localhost:8080/",
          "height": 207
        },
        "id": "stupid-omaha",
        "outputId": "20de8d2b-8fdd-4aea-f53f-2fe45a6ac44a"
      },
      "outputs": [
        {
          "output_type": "execute_result",
          "data": {
            "text/plain": [
              "  Diagnosis InitialPCRDiagnosis    Age  neutrophil  \\\n",
              "0      H1N1                 NaN  67.01         NaN   \n",
              "1      H1N1                 NaN  29.01         NaN   \n",
              "2      H1N1                 NaN  22.01         NaN   \n",
              "\n",
              "   serumLevelsOfWhiteBloodCell  lymphocytes CReactiveProteinLevels  \\\n",
              "0                          NaN          NaN                    NaN   \n",
              "1                          NaN          NaN                    NaN   \n",
              "2                          NaN          NaN                    NaN   \n",
              "\n",
              "   DurationOfIllness CTscanResults RiskFactors GroundGlassOpacity Diarrhea  \\\n",
              "0                NaN           NaN         NaN                NaN      NaN   \n",
              "1                NaN           NaN         NaN                NaN      NaN   \n",
              "2                NaN           NaN         NaN                NaN      NaN   \n",
              "\n",
              "  Fever Coughing ShortnessOfBreath SoreThroat NauseaVomitting  Temperature  \\\n",
              "0  True     True               NaN      False             NaN    38.111111   \n",
              "1   NaN      NaN               NaN        NaN             NaN          NaN   \n",
              "2   NaN      NaN               NaN        NaN             NaN          NaN   \n",
              "\n",
              "  Fatigue  Female  \n",
              "0   False    True  \n",
              "1     NaN   False  \n",
              "2     NaN    True  "
            ],
            "text/html": [
              "\n",
              "  <div id=\"df-7c75cf69-4d7a-4eea-949c-b14ab44cb22f\">\n",
              "    <div class=\"colab-df-container\">\n",
              "      <div>\n",
              "<style scoped>\n",
              "    .dataframe tbody tr th:only-of-type {\n",
              "        vertical-align: middle;\n",
              "    }\n",
              "\n",
              "    .dataframe tbody tr th {\n",
              "        vertical-align: top;\n",
              "    }\n",
              "\n",
              "    .dataframe thead th {\n",
              "        text-align: right;\n",
              "    }\n",
              "</style>\n",
              "<table border=\"1\" class=\"dataframe\">\n",
              "  <thead>\n",
              "    <tr style=\"text-align: right;\">\n",
              "      <th></th>\n",
              "      <th>Diagnosis</th>\n",
              "      <th>InitialPCRDiagnosis</th>\n",
              "      <th>Age</th>\n",
              "      <th>neutrophil</th>\n",
              "      <th>serumLevelsOfWhiteBloodCell</th>\n",
              "      <th>lymphocytes</th>\n",
              "      <th>CReactiveProteinLevels</th>\n",
              "      <th>DurationOfIllness</th>\n",
              "      <th>CTscanResults</th>\n",
              "      <th>RiskFactors</th>\n",
              "      <th>GroundGlassOpacity</th>\n",
              "      <th>Diarrhea</th>\n",
              "      <th>Fever</th>\n",
              "      <th>Coughing</th>\n",
              "      <th>ShortnessOfBreath</th>\n",
              "      <th>SoreThroat</th>\n",
              "      <th>NauseaVomitting</th>\n",
              "      <th>Temperature</th>\n",
              "      <th>Fatigue</th>\n",
              "      <th>Female</th>\n",
              "    </tr>\n",
              "  </thead>\n",
              "  <tbody>\n",
              "    <tr>\n",
              "      <th>0</th>\n",
              "      <td>H1N1</td>\n",
              "      <td>NaN</td>\n",
              "      <td>67.01</td>\n",
              "      <td>NaN</td>\n",
              "      <td>NaN</td>\n",
              "      <td>NaN</td>\n",
              "      <td>NaN</td>\n",
              "      <td>NaN</td>\n",
              "      <td>NaN</td>\n",
              "      <td>NaN</td>\n",
              "      <td>NaN</td>\n",
              "      <td>NaN</td>\n",
              "      <td>True</td>\n",
              "      <td>True</td>\n",
              "      <td>NaN</td>\n",
              "      <td>False</td>\n",
              "      <td>NaN</td>\n",
              "      <td>38.111111</td>\n",
              "      <td>False</td>\n",
              "      <td>True</td>\n",
              "    </tr>\n",
              "    <tr>\n",
              "      <th>1</th>\n",
              "      <td>H1N1</td>\n",
              "      <td>NaN</td>\n",
              "      <td>29.01</td>\n",
              "      <td>NaN</td>\n",
              "      <td>NaN</td>\n",
              "      <td>NaN</td>\n",
              "      <td>NaN</td>\n",
              "      <td>NaN</td>\n",
              "      <td>NaN</td>\n",
              "      <td>NaN</td>\n",
              "      <td>NaN</td>\n",
              "      <td>NaN</td>\n",
              "      <td>NaN</td>\n",
              "      <td>NaN</td>\n",
              "      <td>NaN</td>\n",
              "      <td>NaN</td>\n",
              "      <td>NaN</td>\n",
              "      <td>NaN</td>\n",
              "      <td>NaN</td>\n",
              "      <td>False</td>\n",
              "    </tr>\n",
              "    <tr>\n",
              "      <th>2</th>\n",
              "      <td>H1N1</td>\n",
              "      <td>NaN</td>\n",
              "      <td>22.01</td>\n",
              "      <td>NaN</td>\n",
              "      <td>NaN</td>\n",
              "      <td>NaN</td>\n",
              "      <td>NaN</td>\n",
              "      <td>NaN</td>\n",
              "      <td>NaN</td>\n",
              "      <td>NaN</td>\n",
              "      <td>NaN</td>\n",
              "      <td>NaN</td>\n",
              "      <td>NaN</td>\n",
              "      <td>NaN</td>\n",
              "      <td>NaN</td>\n",
              "      <td>NaN</td>\n",
              "      <td>NaN</td>\n",
              "      <td>NaN</td>\n",
              "      <td>NaN</td>\n",
              "      <td>True</td>\n",
              "    </tr>\n",
              "  </tbody>\n",
              "</table>\n",
              "</div>\n",
              "      <button class=\"colab-df-convert\" onclick=\"convertToInteractive('df-7c75cf69-4d7a-4eea-949c-b14ab44cb22f')\"\n",
              "              title=\"Convert this dataframe to an interactive table.\"\n",
              "              style=\"display:none;\">\n",
              "        \n",
              "  <svg xmlns=\"http://www.w3.org/2000/svg\" height=\"24px\"viewBox=\"0 0 24 24\"\n",
              "       width=\"24px\">\n",
              "    <path d=\"M0 0h24v24H0V0z\" fill=\"none\"/>\n",
              "    <path d=\"M18.56 5.44l.94 2.06.94-2.06 2.06-.94-2.06-.94-.94-2.06-.94 2.06-2.06.94zm-11 1L8.5 8.5l.94-2.06 2.06-.94-2.06-.94L8.5 2.5l-.94 2.06-2.06.94zm10 10l.94 2.06.94-2.06 2.06-.94-2.06-.94-.94-2.06-.94 2.06-2.06.94z\"/><path d=\"M17.41 7.96l-1.37-1.37c-.4-.4-.92-.59-1.43-.59-.52 0-1.04.2-1.43.59L10.3 9.45l-7.72 7.72c-.78.78-.78 2.05 0 2.83L4 21.41c.39.39.9.59 1.41.59.51 0 1.02-.2 1.41-.59l7.78-7.78 2.81-2.81c.8-.78.8-2.07 0-2.86zM5.41 20L4 18.59l7.72-7.72 1.47 1.35L5.41 20z\"/>\n",
              "  </svg>\n",
              "      </button>\n",
              "      \n",
              "  <style>\n",
              "    .colab-df-container {\n",
              "      display:flex;\n",
              "      flex-wrap:wrap;\n",
              "      gap: 12px;\n",
              "    }\n",
              "\n",
              "    .colab-df-convert {\n",
              "      background-color: #E8F0FE;\n",
              "      border: none;\n",
              "      border-radius: 50%;\n",
              "      cursor: pointer;\n",
              "      display: none;\n",
              "      fill: #1967D2;\n",
              "      height: 32px;\n",
              "      padding: 0 0 0 0;\n",
              "      width: 32px;\n",
              "    }\n",
              "\n",
              "    .colab-df-convert:hover {\n",
              "      background-color: #E2EBFA;\n",
              "      box-shadow: 0px 1px 2px rgba(60, 64, 67, 0.3), 0px 1px 3px 1px rgba(60, 64, 67, 0.15);\n",
              "      fill: #174EA6;\n",
              "    }\n",
              "\n",
              "    [theme=dark] .colab-df-convert {\n",
              "      background-color: #3B4455;\n",
              "      fill: #D2E3FC;\n",
              "    }\n",
              "\n",
              "    [theme=dark] .colab-df-convert:hover {\n",
              "      background-color: #434B5C;\n",
              "      box-shadow: 0px 1px 3px 1px rgba(0, 0, 0, 0.15);\n",
              "      filter: drop-shadow(0px 1px 2px rgba(0, 0, 0, 0.3));\n",
              "      fill: #FFFFFF;\n",
              "    }\n",
              "  </style>\n",
              "\n",
              "      <script>\n",
              "        const buttonEl =\n",
              "          document.querySelector('#df-7c75cf69-4d7a-4eea-949c-b14ab44cb22f button.colab-df-convert');\n",
              "        buttonEl.style.display =\n",
              "          google.colab.kernel.accessAllowed ? 'block' : 'none';\n",
              "\n",
              "        async function convertToInteractive(key) {\n",
              "          const element = document.querySelector('#df-7c75cf69-4d7a-4eea-949c-b14ab44cb22f');\n",
              "          const dataTable =\n",
              "            await google.colab.kernel.invokeFunction('convertToInteractive',\n",
              "                                                     [key], {});\n",
              "          if (!dataTable) return;\n",
              "\n",
              "          const docLinkHtml = 'Like what you see? Visit the ' +\n",
              "            '<a target=\"_blank\" href=https://colab.research.google.com/notebooks/data_table.ipynb>data table notebook</a>'\n",
              "            + ' to learn more about interactive tables.';\n",
              "          element.innerHTML = '';\n",
              "          dataTable['output_type'] = 'display_data';\n",
              "          await google.colab.output.renderOutput(dataTable, element);\n",
              "          const docLink = document.createElement('div');\n",
              "          docLink.innerHTML = docLinkHtml;\n",
              "          element.appendChild(docLink);\n",
              "        }\n",
              "      </script>\n",
              "    </div>\n",
              "  </div>\n",
              "  "
            ]
          },
          "metadata": {},
          "execution_count": 46
        }
      ],
      "source": [
        "covid_flu = covid_flu.replace({'Yes': True, 'No': False})  # replace yes and no with True / False\n",
        "\n",
        "covid_flu.head(3)"
      ]
    },
    {
      "cell_type": "code",
      "source": [
        "# construct a new categorical column that is an amalgamation of several flu symptoms\n",
        "covid_flu['FluSymptoms'] = covid_flu[['Diarrhea', 'Fever', 'Coughing', 'SoreThroat', 'NauseaVomitting', 'Fatigue']].sum(axis=1) >= 2"
      ],
      "metadata": {
        "id": "-7Yl-F1_VHS8"
      },
      "id": "-7Yl-F1_VHS8",
      "execution_count": 52,
      "outputs": []
    },
    {
      "cell_type": "code",
      "source": [
        "covid_flu['FluSymptoms'].head()"
      ],
      "metadata": {
        "colab": {
          "base_uri": "https://localhost:8080/"
        },
        "id": "xYamE6PIVL4h",
        "outputId": "43120697-9fbc-4691-d0de-fac83f4a0358"
      },
      "id": "xYamE6PIVL4h",
      "execution_count": 49,
      "outputs": [
        {
          "output_type": "execute_result",
          "data": {
            "text/plain": [
              "0     True\n",
              "1    False\n",
              "2    False\n",
              "3     True\n",
              "4    False\n",
              "Name: FluSymptoms, dtype: bool"
            ]
          },
          "metadata": {},
          "execution_count": 49
        }
      ]
    },
    {
      "cell_type": "code",
      "source": [
        "covid_flu['FluSymptoms'].value_counts()"
      ],
      "metadata": {
        "colab": {
          "base_uri": "https://localhost:8080/"
        },
        "id": "G46jRt5cVTAO",
        "outputId": "ee6b89db-0b56-4069-9903-b90a8fa00735"
      },
      "id": "G46jRt5cVTAO",
      "execution_count": 55,
      "outputs": [
        {
          "output_type": "execute_result",
          "data": {
            "text/plain": [
              "False    753\n",
              "True     729\n",
              "Name: FluSymptoms, dtype: int64"
            ]
          },
          "metadata": {},
          "execution_count": 55
        }
      ]
    },
    {
      "cell_type": "code",
      "execution_count": 59,
      "id": "preceding-stream",
      "metadata": {
        "colab": {
          "base_uri": "https://localhost:8080/"
        },
        "id": "preceding-stream",
        "outputId": "5cd6248f-7c56-44fa-9205-d82dd3f53428"
      },
      "outputs": [
        {
          "output_type": "stream",
          "name": "stdout",
          "text": [
            "True     930\n",
            "False    552\n",
            "Name: FluSymptoms, dtype: int64\n"
          ]
        }
      ],
      "source": [
        "covid_flu['FluSymptoms'] = covid_flu[['Diarrhea', 'Fever', 'Coughing', 'SoreThroat', 'NauseaVomitting', 'Fatigue']].sum(axis=1) >= 1\n",
        "print(covid_flu['FluSymptoms'].value_counts())"
      ]
    },
    {
      "cell_type": "code",
      "source": [
        "covid_flu['FluSymptoms'].isnull().sum() # no missing values"
      ],
      "metadata": {
        "colab": {
          "base_uri": "https://localhost:8080/"
        },
        "id": "F07m3ZLRV4Q_",
        "outputId": "5b3d65d0-6a83-43e3-c8ca-874490f92450"
      },
      "id": "F07m3ZLRV4Q_",
      "execution_count": 57,
      "outputs": [
        {
          "output_type": "execute_result",
          "data": {
            "text/plain": [
              "0"
            ]
          },
          "metadata": {},
          "execution_count": 57
        }
      ]
    },
    {
      "cell_type": "code",
      "execution_count": 58,
      "id": "wooden-lambda",
      "metadata": {
        "id": "wooden-lambda"
      },
      "outputs": [],
      "source": [
        "# aggregate all binary columns in a list\n",
        "\n",
        "binary_features = [  \n",
        "    'Female', 'GroundGlassOpacity', 'CTscanResults', 'Diarrhea', 'Fever', 'FluSymptoms',\n",
        "    'Coughing', 'SoreThroat', 'NauseaVomitting', 'Fatigue', 'InitialPCRDiagnosis'\n",
        "    ]"
      ]
    },
    {
      "cell_type": "code",
      "execution_count": 60,
      "id": "active-victorian",
      "metadata": {
        "id": "active-victorian"
      },
      "outputs": [],
      "source": [
        "# A custom data transformer to deal with our messy risk factor column\n",
        "\n",
        "from sklearn.base import BaseEstimator, TransformerMixin\n",
        "from sklearn.preprocessing import MultiLabelBinarizer  # class to help make dummy variables\n",
        "from functools import reduce\n",
        "\n",
        "class DummifyRiskFactor(BaseEstimator, TransformerMixin):\n",
        "    def __init__(self):\n",
        "        self.label_binarizer = None\n",
        "        \n",
        "    def parse_risk_factors(self, comma_sep_factors):\n",
        "        ''' asthma,heart disease -> ['asthma', 'heart disease'] '''\n",
        "        try:\n",
        "            return [s.strip().lower() for s in comma_sep_factors.split(',')]\n",
        "        except:\n",
        "            return []\n",
        "    \n",
        "    def fit(self, X, y=None):\n",
        "        self.label_binarizer = MultiLabelBinarizer()\n",
        "        self.label_binarizer.fit(X.apply(self.parse_risk_factors))  # create dummy variable for each risk factor\n",
        "        return self\n",
        "    \n",
        "    def transform(self, X, y=None):\n",
        "        return self.label_binarizer.transform(X.apply(self.parse_risk_factors))"
      ]
    },
    {
      "cell_type": "code",
      "source": [
        "drf = DummifyRiskFactor()\n",
        "risks = drf.fit_transform(covid_flu['RiskFactors'])"
      ],
      "metadata": {
        "id": "jwmKBvFJXU2I"
      },
      "id": "jwmKBvFJXU2I",
      "execution_count": 61,
      "outputs": []
    },
    {
      "cell_type": "code",
      "source": [
        "risks.shape"
      ],
      "metadata": {
        "colab": {
          "base_uri": "https://localhost:8080/"
        },
        "id": "ET-by4vcXXS6",
        "outputId": "59712b8e-bb28-4a54-9e08-4258603e0a78"
      },
      "id": "ET-by4vcXXS6",
      "execution_count": 62,
      "outputs": [
        {
          "output_type": "execute_result",
          "data": {
            "text/plain": [
              "(1482, 41)"
            ]
          },
          "metadata": {},
          "execution_count": 62
        }
      ]
    },
    {
      "cell_type": "code",
      "execution_count": 64,
      "id": "changing-health",
      "metadata": {
        "scrolled": false,
        "colab": {
          "base_uri": "https://localhost:8080/",
          "height": 574
        },
        "id": "changing-health",
        "outputId": "e4c451e1-6e7c-48fb-b57f-19a0035b4c26"
      },
      "outputs": [
        {
          "output_type": "execute_result",
          "data": {
            "text/plain": [
              "      asthma  athero  atopic dermatitis and repetitive respiratory infections  \\\n",
              "0          0       0                                                  0         \n",
              "1          0       0                                                  0         \n",
              "2          0       0                                                  0         \n",
              "3          0       0                                                  0         \n",
              "4          0       0                                                  0         \n",
              "...      ...     ...                                                ...         \n",
              "1477       0       0                                                  0         \n",
              "1478       0       0                                                  0         \n",
              "1479       0       0                                                  0         \n",
              "1480       0       0                                                  0         \n",
              "1481       0       0                                                  0         \n",
              "\n",
              "      begin tumor (removed)  chronic  chronic endrocrine disorder  \\\n",
              "0                         0        0                            0   \n",
              "1                         0        0                            0   \n",
              "2                         0        0                            0   \n",
              "3                         0        0                            0   \n",
              "4                         0        0                            0   \n",
              "...                     ...      ...                          ...   \n",
              "1477                      0        0                            0   \n",
              "1478                      0        0                            0   \n",
              "1479                      0        0                            0   \n",
              "1480                      0        0                            0   \n",
              "1481                      0        0                            0   \n",
              "\n",
              "      chronic liver dieseas  chronic liver disorder  \\\n",
              "0                         0                       0   \n",
              "1                         0                       0   \n",
              "2                         0                       0   \n",
              "3                         0                       0   \n",
              "4                         0                       0   \n",
              "...                     ...                     ...   \n",
              "1477                      0                       0   \n",
              "1478                      0                       0   \n",
              "1479                      0                       0   \n",
              "1480                      0                       0   \n",
              "1481                      0                       0   \n",
              "\n",
              "      chronic neurological disorders  chronic obstructive pulmonary disease  \\\n",
              "0                                  0                                      0   \n",
              "1                                  0                                      0   \n",
              "2                                  0                                      0   \n",
              "3                                  0                                      0   \n",
              "4                                  0                                      0   \n",
              "...                              ...                                    ...   \n",
              "1477                               0                                      0   \n",
              "1478                               0                                      0   \n",
              "1479                               0                                      0   \n",
              "1480                               0                                      0   \n",
              "1481                               0                                      0   \n",
              "\n",
              "      ...  lung disease  myxoma of abdominal cavity  obesity  \\\n",
              "0     ...             0                           0        0   \n",
              "1     ...             0                           0        0   \n",
              "2     ...             0                           0        0   \n",
              "3     ...             0                           0        0   \n",
              "4     ...             0                           0        0   \n",
              "...   ...           ...                         ...      ...   \n",
              "1477  ...             0                           0        0   \n",
              "1478  ...             0                           0        0   \n",
              "1479  ...             0                           0        0   \n",
              "1480  ...             0                           0        0   \n",
              "1481  ...             0                           0        0   \n",
              "\n",
              "      pneumomediastinum and subcutaneous emphysema  pneumonia  pre-eclampsia  \\\n",
              "0                                                0          0              0   \n",
              "1                                                0          0              0   \n",
              "2                                                0          0              0   \n",
              "3                                                0          0              0   \n",
              "4                                                0          0              0   \n",
              "...                                            ...        ...            ...   \n",
              "1477                                             0          0              0   \n",
              "1478                                             0          0              0   \n",
              "1479                                             0          0              0   \n",
              "1480                                             0          0              0   \n",
              "1481                                             0          0              0   \n",
              "\n",
              "      prom  renal disease  respiratory disease  rheumatoid arthritis  \n",
              "0        0              0                    0                     0  \n",
              "1        0              0                    0                     0  \n",
              "2        0              0                    0                     0  \n",
              "3        0              0                    0                     0  \n",
              "4        0              0                    0                     0  \n",
              "...    ...            ...                  ...                   ...  \n",
              "1477     0              0                    0                     0  \n",
              "1478     0              0                    0                     0  \n",
              "1479     0              0                    0                     0  \n",
              "1480     0              0                    0                     0  \n",
              "1481     0              0                    0                     0  \n",
              "\n",
              "[1482 rows x 41 columns]"
            ],
            "text/html": [
              "\n",
              "  <div id=\"df-05be26fe-9fc7-4834-838e-c31c8e0b9909\">\n",
              "    <div class=\"colab-df-container\">\n",
              "      <div>\n",
              "<style scoped>\n",
              "    .dataframe tbody tr th:only-of-type {\n",
              "        vertical-align: middle;\n",
              "    }\n",
              "\n",
              "    .dataframe tbody tr th {\n",
              "        vertical-align: top;\n",
              "    }\n",
              "\n",
              "    .dataframe thead th {\n",
              "        text-align: right;\n",
              "    }\n",
              "</style>\n",
              "<table border=\"1\" class=\"dataframe\">\n",
              "  <thead>\n",
              "    <tr style=\"text-align: right;\">\n",
              "      <th></th>\n",
              "      <th>asthma</th>\n",
              "      <th>athero</th>\n",
              "      <th>atopic dermatitis and repetitive respiratory infections</th>\n",
              "      <th>begin tumor (removed)</th>\n",
              "      <th>chronic</th>\n",
              "      <th>chronic endrocrine disorder</th>\n",
              "      <th>chronic liver dieseas</th>\n",
              "      <th>chronic liver disorder</th>\n",
              "      <th>chronic neurological disorders</th>\n",
              "      <th>chronic obstructive pulmonary disease</th>\n",
              "      <th>...</th>\n",
              "      <th>lung disease</th>\n",
              "      <th>myxoma of abdominal cavity</th>\n",
              "      <th>obesity</th>\n",
              "      <th>pneumomediastinum and subcutaneous emphysema</th>\n",
              "      <th>pneumonia</th>\n",
              "      <th>pre-eclampsia</th>\n",
              "      <th>prom</th>\n",
              "      <th>renal disease</th>\n",
              "      <th>respiratory disease</th>\n",
              "      <th>rheumatoid arthritis</th>\n",
              "    </tr>\n",
              "  </thead>\n",
              "  <tbody>\n",
              "    <tr>\n",
              "      <th>0</th>\n",
              "      <td>0</td>\n",
              "      <td>0</td>\n",
              "      <td>0</td>\n",
              "      <td>0</td>\n",
              "      <td>0</td>\n",
              "      <td>0</td>\n",
              "      <td>0</td>\n",
              "      <td>0</td>\n",
              "      <td>0</td>\n",
              "      <td>0</td>\n",
              "      <td>...</td>\n",
              "      <td>0</td>\n",
              "      <td>0</td>\n",
              "      <td>0</td>\n",
              "      <td>0</td>\n",
              "      <td>0</td>\n",
              "      <td>0</td>\n",
              "      <td>0</td>\n",
              "      <td>0</td>\n",
              "      <td>0</td>\n",
              "      <td>0</td>\n",
              "    </tr>\n",
              "    <tr>\n",
              "      <th>1</th>\n",
              "      <td>0</td>\n",
              "      <td>0</td>\n",
              "      <td>0</td>\n",
              "      <td>0</td>\n",
              "      <td>0</td>\n",
              "      <td>0</td>\n",
              "      <td>0</td>\n",
              "      <td>0</td>\n",
              "      <td>0</td>\n",
              "      <td>0</td>\n",
              "      <td>...</td>\n",
              "      <td>0</td>\n",
              "      <td>0</td>\n",
              "      <td>0</td>\n",
              "      <td>0</td>\n",
              "      <td>0</td>\n",
              "      <td>0</td>\n",
              "      <td>0</td>\n",
              "      <td>0</td>\n",
              "      <td>0</td>\n",
              "      <td>0</td>\n",
              "    </tr>\n",
              "    <tr>\n",
              "      <th>2</th>\n",
              "      <td>0</td>\n",
              "      <td>0</td>\n",
              "      <td>0</td>\n",
              "      <td>0</td>\n",
              "      <td>0</td>\n",
              "      <td>0</td>\n",
              "      <td>0</td>\n",
              "      <td>0</td>\n",
              "      <td>0</td>\n",
              "      <td>0</td>\n",
              "      <td>...</td>\n",
              "      <td>0</td>\n",
              "      <td>0</td>\n",
              "      <td>0</td>\n",
              "      <td>0</td>\n",
              "      <td>0</td>\n",
              "      <td>0</td>\n",
              "      <td>0</td>\n",
              "      <td>0</td>\n",
              "      <td>0</td>\n",
              "      <td>0</td>\n",
              "    </tr>\n",
              "    <tr>\n",
              "      <th>3</th>\n",
              "      <td>0</td>\n",
              "      <td>0</td>\n",
              "      <td>0</td>\n",
              "      <td>0</td>\n",
              "      <td>0</td>\n",
              "      <td>0</td>\n",
              "      <td>0</td>\n",
              "      <td>0</td>\n",
              "      <td>0</td>\n",
              "      <td>0</td>\n",
              "      <td>...</td>\n",
              "      <td>0</td>\n",
              "      <td>0</td>\n",
              "      <td>0</td>\n",
              "      <td>0</td>\n",
              "      <td>0</td>\n",
              "      <td>0</td>\n",
              "      <td>0</td>\n",
              "      <td>0</td>\n",
              "      <td>0</td>\n",
              "      <td>0</td>\n",
              "    </tr>\n",
              "    <tr>\n",
              "      <th>4</th>\n",
              "      <td>0</td>\n",
              "      <td>0</td>\n",
              "      <td>0</td>\n",
              "      <td>0</td>\n",
              "      <td>0</td>\n",
              "      <td>0</td>\n",
              "      <td>0</td>\n",
              "      <td>0</td>\n",
              "      <td>0</td>\n",
              "      <td>0</td>\n",
              "      <td>...</td>\n",
              "      <td>0</td>\n",
              "      <td>0</td>\n",
              "      <td>0</td>\n",
              "      <td>0</td>\n",
              "      <td>0</td>\n",
              "      <td>0</td>\n",
              "      <td>0</td>\n",
              "      <td>0</td>\n",
              "      <td>0</td>\n",
              "      <td>0</td>\n",
              "    </tr>\n",
              "    <tr>\n",
              "      <th>...</th>\n",
              "      <td>...</td>\n",
              "      <td>...</td>\n",
              "      <td>...</td>\n",
              "      <td>...</td>\n",
              "      <td>...</td>\n",
              "      <td>...</td>\n",
              "      <td>...</td>\n",
              "      <td>...</td>\n",
              "      <td>...</td>\n",
              "      <td>...</td>\n",
              "      <td>...</td>\n",
              "      <td>...</td>\n",
              "      <td>...</td>\n",
              "      <td>...</td>\n",
              "      <td>...</td>\n",
              "      <td>...</td>\n",
              "      <td>...</td>\n",
              "      <td>...</td>\n",
              "      <td>...</td>\n",
              "      <td>...</td>\n",
              "      <td>...</td>\n",
              "    </tr>\n",
              "    <tr>\n",
              "      <th>1477</th>\n",
              "      <td>0</td>\n",
              "      <td>0</td>\n",
              "      <td>0</td>\n",
              "      <td>0</td>\n",
              "      <td>0</td>\n",
              "      <td>0</td>\n",
              "      <td>0</td>\n",
              "      <td>0</td>\n",
              "      <td>0</td>\n",
              "      <td>0</td>\n",
              "      <td>...</td>\n",
              "      <td>0</td>\n",
              "      <td>0</td>\n",
              "      <td>0</td>\n",
              "      <td>0</td>\n",
              "      <td>0</td>\n",
              "      <td>0</td>\n",
              "      <td>0</td>\n",
              "      <td>0</td>\n",
              "      <td>0</td>\n",
              "      <td>0</td>\n",
              "    </tr>\n",
              "    <tr>\n",
              "      <th>1478</th>\n",
              "      <td>0</td>\n",
              "      <td>0</td>\n",
              "      <td>0</td>\n",
              "      <td>0</td>\n",
              "      <td>0</td>\n",
              "      <td>0</td>\n",
              "      <td>0</td>\n",
              "      <td>0</td>\n",
              "      <td>0</td>\n",
              "      <td>0</td>\n",
              "      <td>...</td>\n",
              "      <td>0</td>\n",
              "      <td>0</td>\n",
              "      <td>0</td>\n",
              "      <td>0</td>\n",
              "      <td>0</td>\n",
              "      <td>0</td>\n",
              "      <td>0</td>\n",
              "      <td>0</td>\n",
              "      <td>0</td>\n",
              "      <td>0</td>\n",
              "    </tr>\n",
              "    <tr>\n",
              "      <th>1479</th>\n",
              "      <td>0</td>\n",
              "      <td>0</td>\n",
              "      <td>0</td>\n",
              "      <td>0</td>\n",
              "      <td>0</td>\n",
              "      <td>0</td>\n",
              "      <td>0</td>\n",
              "      <td>0</td>\n",
              "      <td>0</td>\n",
              "      <td>0</td>\n",
              "      <td>...</td>\n",
              "      <td>0</td>\n",
              "      <td>0</td>\n",
              "      <td>0</td>\n",
              "      <td>0</td>\n",
              "      <td>0</td>\n",
              "      <td>0</td>\n",
              "      <td>0</td>\n",
              "      <td>0</td>\n",
              "      <td>0</td>\n",
              "      <td>0</td>\n",
              "    </tr>\n",
              "    <tr>\n",
              "      <th>1480</th>\n",
              "      <td>0</td>\n",
              "      <td>0</td>\n",
              "      <td>0</td>\n",
              "      <td>0</td>\n",
              "      <td>0</td>\n",
              "      <td>0</td>\n",
              "      <td>0</td>\n",
              "      <td>0</td>\n",
              "      <td>0</td>\n",
              "      <td>0</td>\n",
              "      <td>...</td>\n",
              "      <td>0</td>\n",
              "      <td>0</td>\n",
              "      <td>0</td>\n",
              "      <td>0</td>\n",
              "      <td>0</td>\n",
              "      <td>0</td>\n",
              "      <td>0</td>\n",
              "      <td>0</td>\n",
              "      <td>0</td>\n",
              "      <td>0</td>\n",
              "    </tr>\n",
              "    <tr>\n",
              "      <th>1481</th>\n",
              "      <td>0</td>\n",
              "      <td>0</td>\n",
              "      <td>0</td>\n",
              "      <td>0</td>\n",
              "      <td>0</td>\n",
              "      <td>0</td>\n",
              "      <td>0</td>\n",
              "      <td>0</td>\n",
              "      <td>0</td>\n",
              "      <td>0</td>\n",
              "      <td>...</td>\n",
              "      <td>0</td>\n",
              "      <td>0</td>\n",
              "      <td>0</td>\n",
              "      <td>0</td>\n",
              "      <td>0</td>\n",
              "      <td>0</td>\n",
              "      <td>0</td>\n",
              "      <td>0</td>\n",
              "      <td>0</td>\n",
              "      <td>0</td>\n",
              "    </tr>\n",
              "  </tbody>\n",
              "</table>\n",
              "<p>1482 rows × 41 columns</p>\n",
              "</div>\n",
              "      <button class=\"colab-df-convert\" onclick=\"convertToInteractive('df-05be26fe-9fc7-4834-838e-c31c8e0b9909')\"\n",
              "              title=\"Convert this dataframe to an interactive table.\"\n",
              "              style=\"display:none;\">\n",
              "        \n",
              "  <svg xmlns=\"http://www.w3.org/2000/svg\" height=\"24px\"viewBox=\"0 0 24 24\"\n",
              "       width=\"24px\">\n",
              "    <path d=\"M0 0h24v24H0V0z\" fill=\"none\"/>\n",
              "    <path d=\"M18.56 5.44l.94 2.06.94-2.06 2.06-.94-2.06-.94-.94-2.06-.94 2.06-2.06.94zm-11 1L8.5 8.5l.94-2.06 2.06-.94-2.06-.94L8.5 2.5l-.94 2.06-2.06.94zm10 10l.94 2.06.94-2.06 2.06-.94-2.06-.94-.94-2.06-.94 2.06-2.06.94z\"/><path d=\"M17.41 7.96l-1.37-1.37c-.4-.4-.92-.59-1.43-.59-.52 0-1.04.2-1.43.59L10.3 9.45l-7.72 7.72c-.78.78-.78 2.05 0 2.83L4 21.41c.39.39.9.59 1.41.59.51 0 1.02-.2 1.41-.59l7.78-7.78 2.81-2.81c.8-.78.8-2.07 0-2.86zM5.41 20L4 18.59l7.72-7.72 1.47 1.35L5.41 20z\"/>\n",
              "  </svg>\n",
              "      </button>\n",
              "      \n",
              "  <style>\n",
              "    .colab-df-container {\n",
              "      display:flex;\n",
              "      flex-wrap:wrap;\n",
              "      gap: 12px;\n",
              "    }\n",
              "\n",
              "    .colab-df-convert {\n",
              "      background-color: #E8F0FE;\n",
              "      border: none;\n",
              "      border-radius: 50%;\n",
              "      cursor: pointer;\n",
              "      display: none;\n",
              "      fill: #1967D2;\n",
              "      height: 32px;\n",
              "      padding: 0 0 0 0;\n",
              "      width: 32px;\n",
              "    }\n",
              "\n",
              "    .colab-df-convert:hover {\n",
              "      background-color: #E2EBFA;\n",
              "      box-shadow: 0px 1px 2px rgba(60, 64, 67, 0.3), 0px 1px 3px 1px rgba(60, 64, 67, 0.15);\n",
              "      fill: #174EA6;\n",
              "    }\n",
              "\n",
              "    [theme=dark] .colab-df-convert {\n",
              "      background-color: #3B4455;\n",
              "      fill: #D2E3FC;\n",
              "    }\n",
              "\n",
              "    [theme=dark] .colab-df-convert:hover {\n",
              "      background-color: #434B5C;\n",
              "      box-shadow: 0px 1px 3px 1px rgba(0, 0, 0, 0.15);\n",
              "      filter: drop-shadow(0px 1px 2px rgba(0, 0, 0, 0.3));\n",
              "      fill: #FFFFFF;\n",
              "    }\n",
              "  </style>\n",
              "\n",
              "      <script>\n",
              "        const buttonEl =\n",
              "          document.querySelector('#df-05be26fe-9fc7-4834-838e-c31c8e0b9909 button.colab-df-convert');\n",
              "        buttonEl.style.display =\n",
              "          google.colab.kernel.accessAllowed ? 'block' : 'none';\n",
              "\n",
              "        async function convertToInteractive(key) {\n",
              "          const element = document.querySelector('#df-05be26fe-9fc7-4834-838e-c31c8e0b9909');\n",
              "          const dataTable =\n",
              "            await google.colab.kernel.invokeFunction('convertToInteractive',\n",
              "                                                     [key], {});\n",
              "          if (!dataTable) return;\n",
              "\n",
              "          const docLinkHtml = 'Like what you see? Visit the ' +\n",
              "            '<a target=\"_blank\" href=https://colab.research.google.com/notebooks/data_table.ipynb>data table notebook</a>'\n",
              "            + ' to learn more about interactive tables.';\n",
              "          element.innerHTML = '';\n",
              "          dataTable['output_type'] = 'display_data';\n",
              "          await google.colab.output.renderOutput(dataTable, element);\n",
              "          const docLink = document.createElement('div');\n",
              "          docLink.innerHTML = docLinkHtml;\n",
              "          element.appendChild(docLink);\n",
              "        }\n",
              "      </script>\n",
              "    </div>\n",
              "  </div>\n",
              "  "
            ]
          },
          "metadata": {},
          "execution_count": 64
        }
      ],
      "source": [
        "pd.DataFrame(risks, columns=drf.label_binarizer.classes_)"
      ]
    },
    {
      "cell_type": "code",
      "execution_count": null,
      "id": "acquired-ecuador",
      "metadata": {
        "id": "acquired-ecuador"
      },
      "outputs": [],
      "source": [
        "from sklearn.model_selection import train_test_split\n",
        "\n",
        "X, y = covid_flu.drop(['Diagnosis'], axis=1), covid_flu['Diagnosis']\n",
        "\n",
        "x_train, x_test, y_train, y_test = train_test_split(\n",
        "    X, y, stratify=y, random_state=0, test_size=.2)"
      ]
    },
    {
      "cell_type": "code",
      "execution_count": null,
      "id": "current-tuition",
      "metadata": {
        "id": "current-tuition",
        "outputId": "7ffa7729-d82b-4761-db28-068a1d53d639"
      },
      "outputs": [
        {
          "data": {
            "text/plain": [
              "H1N1       0.723207\n",
              "COVID19    0.276793\n",
              "Name: Diagnosis, dtype: float64"
            ]
          },
          "execution_count": 33,
          "metadata": {},
          "output_type": "execute_result"
        }
      ],
      "source": [
        "y_train.value_counts(normalize=True)"
      ]
    },
    {
      "cell_type": "code",
      "execution_count": null,
      "id": "activated-tours",
      "metadata": {
        "id": "activated-tours",
        "outputId": "8ddeb52b-8296-4633-850c-168efbe9d48e"
      },
      "outputs": [
        {
          "data": {
            "text/plain": [
              "H1N1       0.723906\n",
              "COVID19    0.276094\n",
              "Name: Diagnosis, dtype: float64"
            ]
          },
          "execution_count": 34,
          "metadata": {},
          "output_type": "execute_result"
        }
      ],
      "source": [
        "y_test.value_counts(normalize=True)"
      ]
    },
    {
      "cell_type": "code",
      "execution_count": null,
      "id": "complex-screw",
      "metadata": {
        "id": "complex-screw"
      },
      "outputs": [],
      "source": [
        "from sklearn.preprocessing import FunctionTransformer\n",
        "from sklearn.pipeline import Pipeline, FeatureUnion\n",
        "\n",
        "# deal with risk factors\n",
        "\n",
        "risk_factor_pipeline = Pipeline(\n",
        "    [\n",
        "        ('select_risk_factor', FunctionTransformer(lambda df: df['RiskFactors'])),\n",
        "        ('dummify', DummifyRiskFactor())\n",
        "    ]\n",
        "    )\n",
        "\n",
        "# deal with binary columns\n",
        "\n",
        "binary_pipeline = Pipeline(\n",
        "    [\n",
        "        ('select_categorical_features', FunctionTransformer(lambda df: df[binary_features])),\n",
        "        ('fillna', SimpleImputer(strategy='constant', fill_value=False))  # assume missing values are not present\n",
        "    ]\n",
        ")\n",
        "\n",
        "# deal with numerical columns\n",
        "\n",
        "numerical_pipeline = Pipeline(\n",
        "    [\n",
        "        ('select_numerical_features', FunctionTransformer(lambda df: df[numerical_columns])),\n",
        "        ('impute', SimpleImputer(strategy='median')),\n",
        "    ]\n",
        ")"
      ]
    },
    {
      "cell_type": "code",
      "execution_count": null,
      "id": "coordinate-picture",
      "metadata": {
        "id": "coordinate-picture",
        "outputId": "f3b1068c-c6d1-4567-a480-adf2785ebe70"
      },
      "outputs": [
        {
          "name": "stdout",
          "output_type": "stream",
          "text": [
            "Parsing took 0.00 seconds\n",
            "Training took 3.91 seconds\n",
            "              precision    recall  f1-score   support\n",
            "\n",
            "     COVID19       0.76      0.70      0.73        82\n",
            "        H1N1       0.89      0.92      0.90       215\n",
            "\n",
            "    accuracy                           0.86       297\n",
            "   macro avg       0.82      0.81      0.81       297\n",
            "weighted avg       0.85      0.86      0.85       297\n",
            "\n",
            "Overall took 3.92 seconds\n"
          ]
        },
        {
          "data": {
            "text/plain": [
              "ExtraTreesClassifier()"
            ]
          },
          "execution_count": 36,
          "metadata": {},
          "output_type": "execute_result"
        }
      ],
      "source": [
        "# only using numerical values has a good precision on COVID class but awful recall..\n",
        "simple_grid_search(x_train, y_train, x_test, y_test, numerical_pipeline)"
      ]
    },
    {
      "cell_type": "code",
      "execution_count": null,
      "id": "oriented-assurance",
      "metadata": {
        "scrolled": true,
        "id": "oriented-assurance",
        "outputId": "2f87f822-b119-426f-b005-e196d3d5d960"
      },
      "outputs": [
        {
          "name": "stdout",
          "output_type": "stream",
          "text": [
            "Parsing took 0.00 seconds\n"
          ]
        },
        {
          "name": "stderr",
          "output_type": "stream",
          "text": [
            "/opt/homebrew/Caskroom/miniforge/base/envs/pytorch_env/lib/python3.9/site-packages/sklearn/preprocessing/_label.py:875: UserWarning: unknown class(es) ['atopic dermatitis and repetitive respiratory infections', 'begin tumor (removed)', 'chronic liver disorder', 'chronic neurological disorders', 'fatty liver', 'hypertention', 'lung disease', 'pneumomediastinum and subcutaneous emphysema', 'rheumatoid arthritis'] will be ignored\n",
            "  warnings.warn(\n"
          ]
        },
        {
          "name": "stdout",
          "output_type": "stream",
          "text": [
            "Training took 3.43 seconds\n",
            "              precision    recall  f1-score   support\n",
            "\n",
            "     COVID19       0.73      0.10      0.17        82\n",
            "        H1N1       0.74      0.99      0.85       215\n",
            "\n",
            "    accuracy                           0.74       297\n",
            "   macro avg       0.73      0.54      0.51       297\n",
            "weighted avg       0.74      0.74      0.66       297\n",
            "\n",
            "Overall took 3.43 seconds\n"
          ]
        },
        {
          "data": {
            "text/plain": [
              "ExtraTreesClassifier(n_estimators=10)"
            ]
          },
          "execution_count": 37,
          "metadata": {},
          "output_type": "execute_result"
        }
      ],
      "source": [
        "# only using risk factors has a horrible recall and accuracy is barely higher than the null accuracy\n",
        "simple_grid_search(x_train, y_train, x_test, y_test, risk_factor_pipeline)"
      ]
    },
    {
      "cell_type": "code",
      "execution_count": null,
      "id": "timely-airline",
      "metadata": {
        "id": "timely-airline",
        "outputId": "591cab2b-8eba-42c0-f8ba-a3cc53cd0905"
      },
      "outputs": [
        {
          "name": "stdout",
          "output_type": "stream",
          "text": [
            "Parsing took 0.00 seconds\n",
            "Training took 3.67 seconds\n",
            "              precision    recall  f1-score   support\n",
            "\n",
            "     COVID19       0.82      0.60      0.69        82\n",
            "        H1N1       0.86      0.95      0.90       215\n",
            "\n",
            "    accuracy                           0.85       297\n",
            "   macro avg       0.84      0.77      0.80       297\n",
            "weighted avg       0.85      0.85      0.84       297\n",
            "\n",
            "Overall took 3.69 seconds\n"
          ]
        },
        {
          "data": {
            "text/plain": [
              "ExtraTreesClassifier(max_depth=10, n_estimators=500)"
            ]
          },
          "execution_count": 38,
          "metadata": {},
          "output_type": "execute_result"
        }
      ],
      "source": [
        "# only using binary columns is also not performing well\n",
        "simple_grid_search(x_train, y_train, x_test, y_test, binary_pipeline)"
      ]
    },
    {
      "cell_type": "code",
      "execution_count": null,
      "id": "union-anaheim",
      "metadata": {
        "id": "union-anaheim",
        "outputId": "38b03dbf-ad3a-466f-bb62-77c738b61789"
      },
      "outputs": [
        {
          "name": "stdout",
          "output_type": "stream",
          "text": [
            "Parsing took 0.00 seconds\n",
            "Training took 3.66 seconds\n",
            "              precision    recall  f1-score   support\n",
            "\n",
            "     COVID19       0.78      0.61      0.68        82\n",
            "        H1N1       0.86      0.93      0.90       215\n",
            "\n",
            "    accuracy                           0.85       297\n",
            "   macro avg       0.82      0.77      0.79       297\n",
            "weighted avg       0.84      0.85      0.84       297\n",
            "\n",
            "Overall took 3.69 seconds\n",
            "ExtraTreesClassifier(n_estimators=500)\n"
          ]
        }
      ],
      "source": [
        "print(simple_grid_search(x_train, y_train, x_test, y_test, binary_pipeline))"
      ]
    },
    {
      "cell_type": "code",
      "execution_count": null,
      "id": "inappropriate-minute",
      "metadata": {
        "id": "inappropriate-minute",
        "outputId": "ceb3f699-29ad-46bf-d23f-ff055f9300bb"
      },
      "outputs": [
        {
          "name": "stdout",
          "output_type": "stream",
          "text": [
            "Parsing took 0.01 seconds\n"
          ]
        },
        {
          "name": "stderr",
          "output_type": "stream",
          "text": [
            "/opt/homebrew/Caskroom/miniforge/base/envs/pytorch_env/lib/python3.9/site-packages/sklearn/preprocessing/_label.py:875: UserWarning: unknown class(es) ['atopic dermatitis and repetitive respiratory infections', 'begin tumor (removed)', 'chronic liver disorder', 'chronic neurological disorders', 'fatty liver', 'hypertention', 'lung disease', 'pneumomediastinum and subcutaneous emphysema', 'rheumatoid arthritis'] will be ignored\n",
            "  warnings.warn(\n"
          ]
        },
        {
          "name": "stdout",
          "output_type": "stream",
          "text": [
            "Training took 5.18 seconds\n",
            "              precision    recall  f1-score   support\n",
            "\n",
            "     COVID19       0.85      0.84      0.85        82\n",
            "        H1N1       0.94      0.94      0.94       215\n",
            "\n",
            "    accuracy                           0.92       297\n",
            "   macro avg       0.90      0.89      0.89       297\n",
            "weighted avg       0.92      0.92      0.92       297\n",
            "\n",
            "Overall took 5.19 seconds\n"
          ]
        }
      ],
      "source": [
        "# Use our cross-validation function to show the best classification report (best == highest test set accuracy)\n",
        "# We  will use this as a baseline performance indicator for our next feature engineering attempts\n",
        "\n",
        "simple_fe = FeatureUnion([  # put all of our features together\n",
        "    ('risk_factors', risk_factor_pipeline),\n",
        "    ('binary_pipeline', binary_pipeline),\n",
        "    ('numerical_pipeline', numerical_pipeline)\n",
        "])\n",
        "\n",
        "simple_fe.fit_transform(x_train, y_train).shape\n",
        "\n",
        "best_model = simple_grid_search(x_train, y_train, x_test, y_test, simple_fe)"
      ]
    },
    {
      "cell_type": "code",
      "execution_count": null,
      "id": "nervous-possession",
      "metadata": {
        "id": "nervous-possession",
        "outputId": "d30a75a0-745e-4a1f-ced2-e6f35011bb54"
      },
      "outputs": [
        {
          "name": "stdout",
          "output_type": "stream",
          "text": [
            "Parsing took 0.01 seconds\n"
          ]
        },
        {
          "name": "stderr",
          "output_type": "stream",
          "text": [
            "/opt/homebrew/Caskroom/miniforge/base/envs/pytorch_env/lib/python3.9/site-packages/sklearn/preprocessing/_label.py:875: UserWarning: unknown class(es) ['atopic dermatitis and repetitive respiratory infections', 'begin tumor (removed)', 'chronic liver disorder', 'chronic neurological disorders', 'fatty liver', 'hypertention', 'lung disease', 'pneumomediastinum and subcutaneous emphysema', 'rheumatoid arthritis'] will be ignored\n",
            "  warnings.warn(\n"
          ]
        },
        {
          "name": "stdout",
          "output_type": "stream",
          "text": [
            "Training took 4.61 seconds\n",
            "              precision    recall  f1-score   support\n",
            "\n",
            "     COVID19       0.87      0.87      0.87        82\n",
            "        H1N1       0.95      0.95      0.95       215\n",
            "\n",
            "    accuracy                           0.93       297\n",
            "   macro avg       0.91      0.91      0.91       297\n",
            "weighted avg       0.93      0.93      0.93       297\n",
            "\n",
            "Overall took 4.64 seconds\n"
          ]
        }
      ],
      "source": [
        "numerical_pipeline = Pipeline(\n",
        "    [\n",
        "        ('select_numerical_features', FunctionTransformer(lambda df: df[numerical_columns])),\n",
        "        ('impute', SimpleImputer(strategy='mean')),  # try mean instead of median\n",
        "        ('scale', StandardScaler())  # scale our numerical features\n",
        "    ]\n",
        ")\n",
        "\n",
        "simple_fe = FeatureUnion([\n",
        "    ('risk_factors', risk_factor_pipeline),\n",
        "    ('binary_pipeline', binary_pipeline),\n",
        "    ('numerical_pipeline', numerical_pipeline)\n",
        "])\n",
        "\n",
        "# gained some precision for the COVID class\n",
        "best_model = simple_grid_search(x_train, y_train, x_test, y_test, simple_fe)"
      ]
    },
    {
      "cell_type": "code",
      "execution_count": null,
      "id": "unable-worth",
      "metadata": {
        "id": "unable-worth",
        "outputId": "eda7f434-632a-4824-fe65-e8f56746de8c"
      },
      "outputs": [
        {
          "name": "stdout",
          "output_type": "stream",
          "text": [
            "Parsing took 0.01 seconds\n"
          ]
        },
        {
          "name": "stderr",
          "output_type": "stream",
          "text": [
            "/opt/homebrew/Caskroom/miniforge/base/envs/pytorch_env/lib/python3.9/site-packages/sklearn/preprocessing/_label.py:875: UserWarning: unknown class(es) ['atopic dermatitis and repetitive respiratory infections', 'begin tumor (removed)', 'chronic liver disorder', 'chronic neurological disorders', 'fatty liver', 'hypertention', 'lung disease', 'pneumomediastinum and subcutaneous emphysema', 'rheumatoid arthritis'] will be ignored\n",
            "  warnings.warn(\n"
          ]
        },
        {
          "name": "stdout",
          "output_type": "stream",
          "text": [
            "Training took 4.33 seconds\n",
            "              precision    recall  f1-score   support\n",
            "\n",
            "     COVID19       0.87      0.89      0.88        82\n",
            "        H1N1       0.96      0.95      0.95       215\n",
            "\n",
            "    accuracy                           0.93       297\n",
            "   macro avg       0.91      0.92      0.92       297\n",
            "weighted avg       0.93      0.93      0.93       297\n",
            "\n",
            "Overall took 4.36 seconds\n"
          ]
        }
      ],
      "source": [
        "numerical_pipeline = Pipeline(\n",
        "    [\n",
        "        ('select_numerical_features', FunctionTransformer(lambda df: df[numerical_columns])),\n",
        "        ('impute', SimpleImputer(strategy='constant', fill_value=999)),  # try a constant 999\n",
        "        ('scale', StandardScaler())\n",
        "    ]\n",
        ")\n",
        "\n",
        "simple_fe = FeatureUnion([\n",
        "    ('risk_factors', risk_factor_pipeline),\n",
        "    ('binary_pipeline', binary_pipeline),\n",
        "    ('numerical_pipeline', numerical_pipeline)\n",
        "])\n",
        "\n",
        "# gained some precision for the COVID class\n",
        "best_model = simple_grid_search(x_train, y_train, x_test, y_test, simple_fe)"
      ]
    },
    {
      "cell_type": "code",
      "execution_count": null,
      "id": "choice-transmission",
      "metadata": {
        "id": "choice-transmission"
      },
      "outputs": [],
      "source": []
    },
    {
      "cell_type": "code",
      "execution_count": null,
      "id": "solid-paste",
      "metadata": {
        "id": "solid-paste",
        "outputId": "a798c612-12e3-4fca-c8c1-e45826f1cdea"
      },
      "outputs": [
        {
          "name": "stdout",
          "output_type": "stream",
          "text": [
            "Parsing took 0.02 seconds\n"
          ]
        },
        {
          "name": "stderr",
          "output_type": "stream",
          "text": [
            "/opt/homebrew/Caskroom/miniforge/base/envs/pytorch_env/lib/python3.9/site-packages/sklearn/preprocessing/_label.py:875: UserWarning: unknown class(es) ['atopic dermatitis and repetitive respiratory infections', 'begin tumor (removed)', 'chronic liver disorder', 'chronic neurological disorders', 'fatty liver', 'hypertention', 'lung disease', 'pneumomediastinum and subcutaneous emphysema', 'rheumatoid arthritis'] will be ignored\n",
            "  warnings.warn(\n"
          ]
        },
        {
          "name": "stdout",
          "output_type": "stream",
          "text": [
            "Training took 4.46 seconds\n",
            "              precision    recall  f1-score   support\n",
            "\n",
            "     COVID19       0.79      0.89      0.84        82\n",
            "        H1N1       0.96      0.91      0.93       215\n",
            "\n",
            "    accuracy                           0.91       297\n",
            "   macro avg       0.87      0.90      0.89       297\n",
            "weighted avg       0.91      0.91      0.91       297\n",
            "\n",
            "Overall took 4.50 seconds\n"
          ]
        }
      ],
      "source": [
        "# Apply box-cox transformation after scaling data and impute using gaussian end of tail\n",
        "\n",
        "numerical_pipeline = Pipeline(\n",
        "    [\n",
        "        ('select_numerical_features', FunctionTransformer(lambda df: df[numerical_columns])),\n",
        "        ('box-cox', PowerTransformer(method='box-cox', standardize=True)),\n",
        "        ('turn_into_df', FunctionTransformer(lambda matrix: pd.DataFrame(matrix))),  # turn back into dataframe\n",
        "        ('end_of_tail', EndTailImputer(imputation_method='gaussian'))\n",
        "\n",
        "    ]\n",
        ")\n",
        "\n",
        "simple_fe = FeatureUnion([\n",
        "    ('risk_factors', risk_factor_pipeline),\n",
        "    ('binary_pipeline', binary_pipeline),\n",
        "    ('numerical_pipeline', numerical_pipeline)\n",
        "])\n",
        "\n",
        "# looking better\n",
        "best_model = simple_grid_search(x_train, y_train, x_test, y_test, simple_fe)"
      ]
    },
    {
      "cell_type": "code",
      "execution_count": null,
      "id": "exempt-evaluation",
      "metadata": {
        "id": "exempt-evaluation",
        "outputId": "404a82ca-46ec-4169-dc05-5ddc24ae89d9"
      },
      "outputs": [
        {
          "data": {
            "text/plain": [
              "<AxesSubplot:title={'center':'Age (Uniform Binning)'}, ylabel='Frequency'>"
            ]
          },
          "execution_count": 44,
          "metadata": {},
          "output_type": "execute_result"
        },
        {
          "data": {
            "image/png": "[encoded data removed]",
            "text/plain": [
              "<Figure size 432x288 with 1 Axes>"
            ]
          },
          "metadata": {
            "needs_background": "light"
          },
          "output_type": "display_data"
        }
      ],
      "source": [
        "from sklearn.preprocessing import KBinsDiscretizer  # we will use this module for binning our data\n",
        "\n",
        "# uniform will create bins of equal width\n",
        "binner = KBinsDiscretizer(n_bins=3, encode='ordinal', strategy='uniform')\n",
        "binned_data = binner.fit_transform(covid_flu[['Age']].dropna())\n",
        "pd.Series(binned_data.reshape(-1,)).plot(\n",
        "    title='Age (Uniform Binning)', kind='hist', xlabel='Age'\n",
        ")\n"
      ]
    },
    {
      "cell_type": "code",
      "execution_count": null,
      "id": "comfortable-shield",
      "metadata": {
        "id": "comfortable-shield",
        "outputId": "5a0627e1-913e-48f0-af29-5a3741b6fa51"
      },
      "outputs": [
        {
          "data": {
            "text/plain": [
              "<AxesSubplot:title={'center':'Age (Quantile Binning)'}, ylabel='Frequency'>"
            ]
          },
          "execution_count": 45,
          "metadata": {},
          "output_type": "execute_result"
        },
        {
          "data": {
            "image/png": "[encoded data removed]",
            "text/plain": [
              "<Figure size 432x288 with 1 Axes>"
            ]
          },
          "metadata": {
            "needs_background": "light"
          },
          "output_type": "display_data"
        }
      ],
      "source": [
        "# quantile will create bins of roughly equal height\n",
        "binner = KBinsDiscretizer(n_bins=3, encode='ordinal', strategy='quantile')\n",
        "binned_data = binner.fit_transform(covid_flu[['Age']].dropna())\n",
        "pd.Series(binned_data.reshape(-1,)).plot(\n",
        "    title='Age (Quantile Binning)', kind='hist', xlabel='Age'\n",
        ")\n"
      ]
    },
    {
      "cell_type": "code",
      "execution_count": null,
      "id": "suffering-error",
      "metadata": {
        "id": "suffering-error",
        "outputId": "3672682f-5693-47d5-809e-fc1aadc26b2a"
      },
      "outputs": [
        {
          "data": {
            "text/plain": [
              "<AxesSubplot:title={'center':'Age (KMeans Binning)'}, ylabel='Frequency'>"
            ]
          },
          "execution_count": 46,
          "metadata": {},
          "output_type": "execute_result"
        },
        {
          "data": {
            "image/png": "[encoded data removed]",
            "text/plain": [
              "<Figure size 432x288 with 1 Axes>"
            ]
          },
          "metadata": {
            "needs_background": "light"
          },
          "output_type": "display_data"
        }
      ],
      "source": [
        "# kmeans will run a k-means cluster on each feature independently\n",
        "binner = KBinsDiscretizer(n_bins=3, encode='ordinal', strategy='kmeans')\n",
        "binned_data = binner.fit_transform(covid_flu[['Age']].dropna())\n",
        "pd.Series(binned_data.reshape(-1,)).plot(\n",
        "    title='Age (KMeans Binning)', kind='hist', xlabel='Age'\n",
        ")\n"
      ]
    },
    {
      "cell_type": "code",
      "execution_count": null,
      "id": "recreational-mentor",
      "metadata": {
        "id": "recreational-mentor"
      },
      "outputs": [],
      "source": []
    },
    {
      "cell_type": "code",
      "execution_count": null,
      "id": "legitimate-store",
      "metadata": {
        "id": "legitimate-store",
        "outputId": "17d43fc5-b556-4706-ab66-c8cd8a737b77"
      },
      "outputs": [
        {
          "name": "stderr",
          "output_type": "stream",
          "text": [
            "/opt/homebrew/Caskroom/miniforge/base/envs/pytorch_env/lib/python3.9/site-packages/sklearn/preprocessing/_discretization.py:230: UserWarning: Bins whose width are too small (i.e., <= 1e-8) in feature 5 are removed. Consider decreasing the number of bins.\n",
            "  warnings.warn(\n",
            "/opt/homebrew/Caskroom/miniforge/base/envs/pytorch_env/lib/python3.9/site-packages/sklearn/preprocessing/_label.py:875: UserWarning: unknown class(es) ['atopic dermatitis and repetitive respiratory infections', 'begin tumor (removed)', 'chronic liver disorder', 'chronic neurological disorders', 'fatty liver', 'hypertention', 'lung disease', 'pneumomediastinum and subcutaneous emphysema', 'rheumatoid arthritis'] will be ignored\n",
            "  warnings.warn(\n"
          ]
        },
        {
          "name": "stdout",
          "output_type": "stream",
          "text": [
            "Parsing took 0.04 seconds\n",
            "Training took 4.41 seconds\n",
            "              precision    recall  f1-score   support\n",
            "\n",
            "     COVID19       0.84      0.84      0.84        82\n",
            "        H1N1       0.94      0.94      0.94       215\n",
            "\n",
            "    accuracy                           0.91       297\n",
            "   macro avg       0.89      0.89      0.89       297\n",
            "weighted avg       0.91      0.91      0.91       297\n",
            "\n",
            "Overall took 4.44 seconds\n"
          ]
        }
      ],
      "source": [
        "numerical_pipeline = Pipeline(  # bin data after scaling and imputing\n",
        "    [\n",
        "        ('select_numerical_features', FunctionTransformer(lambda df: df[numerical_columns])),\n",
        "        ('box-cox', PowerTransformer(method='box-cox', standardize=True)),\n",
        "        ('turn_into_df', FunctionTransformer(lambda matrix: pd.DataFrame(matrix))),  # turn back into dataframe\n",
        "        ('end_of_tail', EndTailImputer(imputation_method='gaussian')),\n",
        "        ('ordinal_bins', KBinsDiscretizer(n_bins=10, encode='ordinal', strategy='kmeans'))\n",
        "    ]\n",
        ")\n",
        "\n",
        "simple_fe = FeatureUnion([\n",
        "    ('risk_factors', risk_factor_pipeline),\n",
        "    ('binary_pipeline', binary_pipeline),\n",
        "    ('numerical_pipeline', numerical_pipeline)\n",
        "])\n",
        "\n",
        "# so far one of our best set of results!\n",
        "best_model = simple_grid_search(x_train, y_train, x_test, y_test, simple_fe)"
      ]
    },
    {
      "cell_type": "code",
      "execution_count": null,
      "id": "innovative-jordan",
      "metadata": {
        "id": "innovative-jordan",
        "outputId": "5a1cd435-3b8b-47d4-97d8-0c959c470d98"
      },
      "outputs": [
        {
          "name": "stdout",
          "output_type": "stream",
          "text": [
            "Parsing took 0.11 seconds\n"
          ]
        },
        {
          "name": "stderr",
          "output_type": "stream",
          "text": [
            "/opt/homebrew/Caskroom/miniforge/base/envs/pytorch_env/lib/python3.9/site-packages/sklearn/preprocessing/_discretization.py:230: UserWarning: Bins whose width are too small (i.e., <= 1e-8) in feature 5 are removed. Consider decreasing the number of bins.\n",
            "  warnings.warn(\n",
            "/opt/homebrew/Caskroom/miniforge/base/envs/pytorch_env/lib/python3.9/site-packages/sklearn/preprocessing/_label.py:875: UserWarning: unknown class(es) ['atopic dermatitis and repetitive respiratory infections', 'begin tumor (removed)', 'chronic liver disorder', 'chronic neurological disorders', 'fatty liver', 'hypertention', 'lung disease', 'pneumomediastinum and subcutaneous emphysema', 'rheumatoid arthritis'] will be ignored\n",
            "  warnings.warn(\n"
          ]
        },
        {
          "name": "stdout",
          "output_type": "stream",
          "text": [
            "Training took 4.15 seconds\n",
            "              precision    recall  f1-score   support\n",
            "\n",
            "     COVID19       1.00      0.72      0.84        82\n",
            "        H1N1       0.90      1.00      0.95       215\n",
            "\n",
            "    accuracy                           0.92       297\n",
            "   macro avg       0.95      0.86      0.89       297\n",
            "weighted avg       0.93      0.92      0.92       297\n",
            "\n",
            "Overall took 4.15 seconds\n"
          ]
        }
      ],
      "source": [
        "from sklearn.feature_selection import SelectKBest\n",
        "from sklearn.feature_selection import mutual_info_classif\n",
        "\n",
        "risk_factor_pipeline = Pipeline(  # add feature selection\n",
        "    [\n",
        "        ('select_risk_factor', FunctionTransformer(lambda df: df['RiskFactors'])),\n",
        "        ('dummify', DummifyRiskFactor()),\n",
        "        ('mutual_info', SelectKBest(mutual_info_classif, k=20)),  # feature selection based on mutual information\n",
        "    ]\n",
        ")\n",
        "\n",
        "\n",
        "simple_fe = FeatureUnion([\n",
        "    ('risk_factors', risk_factor_pipeline),\n",
        "    ('binary_pipeline', binary_pipeline),\n",
        "    ('numerical_pipeline', numerical_pipeline)\n",
        "])\n",
        "\n",
        "best_model = simple_grid_search(x_train, y_train, x_test, y_test, simple_fe)"
      ]
    },
    {
      "cell_type": "code",
      "execution_count": null,
      "id": "macro-clinton",
      "metadata": {
        "id": "macro-clinton",
        "outputId": "b244737a-3e9b-43b5-8de6-555ff3c30790"
      },
      "outputs": [
        {
          "name": "stdout",
          "output_type": "stream",
          "text": [
            "Parsing took 0.04 seconds\n"
          ]
        },
        {
          "name": "stderr",
          "output_type": "stream",
          "text": [
            "/opt/homebrew/Caskroom/miniforge/base/envs/pytorch_env/lib/python3.9/site-packages/sklearn/preprocessing/_discretization.py:230: UserWarning: Bins whose width are too small (i.e., <= 1e-8) in feature 5 are removed. Consider decreasing the number of bins.\n",
            "  warnings.warn(\n",
            "/opt/homebrew/Caskroom/miniforge/base/envs/pytorch_env/lib/python3.9/site-packages/sklearn/preprocessing/_label.py:875: UserWarning: unknown class(es) ['atopic dermatitis and repetitive respiratory infections', 'begin tumor (removed)', 'chronic liver disorder', 'chronic neurological disorders', 'fatty liver', 'hypertention', 'lung disease', 'pneumomediastinum and subcutaneous emphysema', 'rheumatoid arthritis'] will be ignored\n",
            "  warnings.warn(\n"
          ]
        },
        {
          "name": "stdout",
          "output_type": "stream",
          "text": [
            "Training took 4.10 seconds\n",
            "              precision    recall  f1-score   support\n",
            "\n",
            "     COVID19       0.87      0.84      0.86        82\n",
            "        H1N1       0.94      0.95      0.95       215\n",
            "\n",
            "    accuracy                           0.92       297\n",
            "   macro avg       0.91      0.90      0.90       297\n",
            "weighted avg       0.92      0.92      0.92       297\n",
            "\n",
            "Overall took 4.11 seconds\n"
          ]
        }
      ],
      "source": [
        "from sklearn.feature_selection import chi2\n",
        "\n",
        "risk_factor_pipeline = Pipeline(  # add feature selection\n",
        "    [\n",
        "        ('select_risk_factor', FunctionTransformer(lambda df: df['RiskFactors'])),\n",
        "        ('dummify', DummifyRiskFactor()),\n",
        "        ('chi2', SelectKBest(chi2, k=10))  # use chi2 to select features\n",
        "    ]\n",
        ")\n",
        "\n",
        "\n",
        "simple_fe = FeatureUnion([\n",
        "    ('risk_factors', risk_factor_pipeline),\n",
        "    ('binary_pipeline', binary_pipeline),\n",
        "    ('numerical_pipeline', numerical_pipeline)\n",
        "])\n",
        "\n",
        "best_model = simple_grid_search(x_train, y_train, x_test, y_test, simple_fe)\n"
      ]
    },
    {
      "cell_type": "code",
      "execution_count": null,
      "id": "bright-timothy",
      "metadata": {
        "id": "bright-timothy",
        "outputId": "fc39190b-584e-44e7-8e96-74aaef7ea132"
      },
      "outputs": [
        {
          "name": "stdout",
          "output_type": "stream",
          "text": [
            "Parsing took 0.03 seconds\n"
          ]
        },
        {
          "name": "stderr",
          "output_type": "stream",
          "text": [
            "/opt/homebrew/Caskroom/miniforge/base/envs/pytorch_env/lib/python3.9/site-packages/sklearn/preprocessing/_discretization.py:230: UserWarning: Bins whose width are too small (i.e., <= 1e-8) in feature 5 are removed. Consider decreasing the number of bins.\n",
            "  warnings.warn(\n",
            "/opt/homebrew/Caskroom/miniforge/base/envs/pytorch_env/lib/python3.9/site-packages/sklearn/preprocessing/_label.py:875: UserWarning: unknown class(es) ['atopic dermatitis and repetitive respiratory infections', 'begin tumor (removed)', 'chronic liver disorder', 'chronic neurological disorders', 'fatty liver', 'hypertention', 'lung disease', 'pneumomediastinum and subcutaneous emphysema', 'rheumatoid arthritis'] will be ignored\n",
            "  warnings.warn(\n"
          ]
        },
        {
          "name": "stdout",
          "output_type": "stream",
          "text": [
            "Training took 3.97 seconds\n",
            "              precision    recall  f1-score   support\n",
            "\n",
            "     COVID19       0.84      0.84      0.84        82\n",
            "        H1N1       0.94      0.94      0.94       215\n",
            "\n",
            "    accuracy                           0.91       297\n",
            "   macro avg       0.89      0.89      0.89       297\n",
            "weighted avg       0.91      0.91      0.91       297\n",
            "\n",
            "Overall took 3.98 seconds\n"
          ]
        }
      ],
      "source": [
        "from sklearn.feature_selection import SelectFromModel\n",
        "from sklearn.tree import DecisionTreeClassifier\n",
        "\n",
        "risk_factor_pipeline = Pipeline(\n",
        "    [\n",
        "        ('select_risk_factor', FunctionTransformer(lambda df: df['RiskFactors'])),\n",
        "        ('dummify', DummifyRiskFactor()),\n",
        "        # use a decision tree classifier to select features\n",
        "        ('tree_selector', SelectFromModel(max_features=20, estimator=DecisionTreeClassifier()))\n",
        "    ]\n",
        ")\n",
        "\n",
        "\n",
        "simple_fe = FeatureUnion([\n",
        "    ('risk_factors', risk_factor_pipeline),\n",
        "    ('binary_pipeline', binary_pipeline),\n",
        "    ('numerical_pipeline', numerical_pipeline)\n",
        "])\n",
        "\n",
        "# let's stop here\n",
        "best_model = simple_grid_search(x_train, y_train, x_test, y_test, simple_fe)"
      ]
    },
    {
      "cell_type": "code",
      "execution_count": null,
      "id": "compliant-mainstream",
      "metadata": {
        "id": "compliant-mainstream",
        "outputId": "50411370-917f-45cc-d49a-011ad850406a"
      },
      "outputs": [
        {
          "data": {
            "text/plain": [
              "[('risk_factors',\n",
              "  Pipeline(steps=[('select_risk_factor',\n",
              "                   FunctionTransformer(func=<function <lambda> at 0x16b810b80>)),\n",
              "                  ('dummify', DummifyRiskFactor()),\n",
              "                  ('tree_selector',\n",
              "                   SelectFromModel(estimator=DecisionTreeClassifier(),\n",
              "                                   max_features=20))])),\n",
              " ('binary_pipeline',\n",
              "  Pipeline(steps=[('select_categorical_features',\n",
              "                   FunctionTransformer(func=<function <lambda> at 0x1676bf5e0>)),\n",
              "                  ('fillna',\n",
              "                   SimpleImputer(fill_value=False, strategy='constant'))])),\n",
              " ('numerical_pipeline',\n",
              "  Pipeline(steps=[('select_numerical_features',\n",
              "                   FunctionTransformer(func=<function <lambda> at 0x16bc503a0>)),\n",
              "                  ('box-cox', PowerTransformer(method='box-cox')),\n",
              "                  ('turn_into_df',\n",
              "                   FunctionTransformer(func=<function <lambda> at 0x16bc500d0>)),\n",
              "                  ('end_of_tail', EndTailImputer()),\n",
              "                  ('ordinal_bins',\n",
              "                   KBinsDiscretizer(encode='ordinal', n_bins=10,\n",
              "                                    strategy='kmeans'))]))]"
            ]
          },
          "execution_count": 51,
          "metadata": {},
          "output_type": "execute_result"
        }
      ],
      "source": [
        "# Let's take a look at our pipeline\n",
        "simple_fe.transformer_list"
      ]
    }
  ],
  "metadata": {
    "kernelspec": {
      "display_name": "Python 3 (ipykernel)",
      "language": "python",
      "name": "python3"
    },
    "language_info": {
      "codemirror_mode": {
        "name": "ipython",
        "version": 3
      },
      "file_extension": ".py",
      "mimetype": "text/x-python",
      "name": "python",
      "nbconvert_exporter": "python",
      "pygments_lexer": "ipython3",
      "version": "3.9.10"
    },
    "colab": {
      "provenance": []
    }
  },
  "nbformat": 4,
  "nbformat_minor": 5
}